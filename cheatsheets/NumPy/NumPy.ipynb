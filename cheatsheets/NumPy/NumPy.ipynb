{
 "cells": [
  {
   "cell_type": "markdown",
   "id": "ba624ba4-479b-4fba-b989-417a95ccca50",
   "metadata": {},
   "source": [
    "# NumPy CheatSheet"
   ]
  },
  {
   "cell_type": "code",
   "execution_count": 1,
   "id": "0e1acd45-9fed-4f65-bc9c-ce8adb5242b8",
   "metadata": {},
   "outputs": [],
   "source": [
    "import numpy as np"
   ]
  },
  {
   "cell_type": "markdown",
   "id": "b7fb0966-ea0f-4f5d-af35-63bfe36e83cf",
   "metadata": {},
   "source": [
    "### Criando Arrays NumPy"
   ]
  },
  {
   "cell_type": "code",
   "execution_count": 3,
   "id": "9e5e713d-60f9-4a0c-b0a4-8fab5ab7022d",
   "metadata": {},
   "outputs": [
    {
     "name": "stdout",
     "output_type": "stream",
     "text": [
      "[10 20 30 40 50]\n"
     ]
    }
   ],
   "source": [
    "array1 = np.array([10, 20, 30, 40, 50])\n",
    "print(array1)"
   ]
  },
  {
   "cell_type": "code",
   "execution_count": 4,
   "id": "cc67765d-f1f7-4ab8-ae26-dbb72a33e0d6",
   "metadata": {},
   "outputs": [
    {
     "data": {
      "text/plain": [
       "numpy.ndarray"
      ]
     },
     "execution_count": 4,
     "metadata": {},
     "output_type": "execute_result"
    }
   ],
   "source": [
    "type(array1)"
   ]
  },
  {
   "cell_type": "code",
   "execution_count": 7,
   "id": "c59612b6-3280-4e5c-b80c-92e2c3ff3b7e",
   "metadata": {},
   "outputs": [
    {
     "data": {
      "text/plain": [
       "(5,)"
      ]
     },
     "execution_count": 7,
     "metadata": {},
     "output_type": "execute_result"
    }
   ],
   "source": [
    "array1.shape"
   ]
  },
  {
   "cell_type": "markdown",
   "id": "da1ae3f7-dc62-4414-8525-3be9a35d3bb0",
   "metadata": {},
   "source": [
    "### Indexação em Arrays NumPy"
   ]
  },
  {
   "cell_type": "code",
   "execution_count": 8,
   "id": "907f5732-66f7-4a9e-9d28-9a9d18cf4807",
   "metadata": {},
   "outputs": [
    {
     "data": {
      "text/plain": [
       "40"
      ]
     },
     "execution_count": 8,
     "metadata": {},
     "output_type": "execute_result"
    }
   ],
   "source": [
    "array1[3]"
   ]
  },
  {
   "cell_type": "code",
   "execution_count": 9,
   "id": "e7383f64-8b15-4565-a141-033c11e3e331",
   "metadata": {},
   "outputs": [
    {
     "data": {
      "text/plain": [
       "array([20, 30])"
      ]
     },
     "execution_count": 9,
     "metadata": {},
     "output_type": "execute_result"
    }
   ],
   "source": [
    "array1[1:3]"
   ]
  },
  {
   "cell_type": "code",
   "execution_count": 10,
   "id": "702cae60-4599-4a9c-ab61-c3ad56c390e4",
   "metadata": {},
   "outputs": [
    {
     "data": {
      "text/plain": [
       "array([10, 30, 40])"
      ]
     },
     "execution_count": 10,
     "metadata": {},
     "output_type": "execute_result"
    }
   ],
   "source": [
    "index = [0, 2, 3]\n",
    "array1[index]"
   ]
  },
  {
   "cell_type": "code",
   "execution_count": 12,
   "id": "912da461-dc2a-4737-879e-97c877bdab60",
   "metadata": {},
   "outputs": [
    {
     "data": {
      "text/plain": [
       "array([ True,  True,  True,  True,  True])"
      ]
     },
     "execution_count": 12,
     "metadata": {},
     "output_type": "execute_result"
    }
   ],
   "source": [
    "mask = (array1 % 2 == 0)\n",
    "mask"
   ]
  },
  {
   "cell_type": "markdown",
   "id": "ac3de6dd-e347-47a1-b503-7e90e7987792",
   "metadata": {},
   "source": [
    "### Alterar elementos do array"
   ]
  },
  {
   "cell_type": "code",
   "execution_count": 13,
   "id": "9968dc28-2460-416f-b6e6-9a1c98709b4b",
   "metadata": {},
   "outputs": [
    {
     "data": {
      "text/plain": [
       "array([ 5, 20, 30, 40, 50])"
      ]
     },
     "execution_count": 13,
     "metadata": {},
     "output_type": "execute_result"
    }
   ],
   "source": [
    "array1[0] = 5\n",
    "array1"
   ]
  },
  {
   "cell_type": "code",
   "execution_count": 17,
   "id": "f5d811b4-5d12-4bef-8da8-a24915dda2e2",
   "metadata": {},
   "outputs": [
    {
     "name": "stdout",
     "output_type": "stream",
     "text": [
      "Operação não permitida\n"
     ]
    }
   ],
   "source": [
    "try:\n",
    "    array1[1] = \"Vinicius\"\n",
    "except:\n",
    "    print(\"Operação não permitida\")"
   ]
  },
  {
   "cell_type": "markdown",
   "id": "7377aef2-e5e7-4f0b-b102-bc727a6db595",
   "metadata": {},
   "source": [
    "### Funções NumPy"
   ]
  },
  {
   "cell_type": "code",
   "execution_count": 23,
   "id": "bc7ce7e5-a79e-4858-815f-16ae9c99baa8",
   "metadata": {},
   "outputs": [],
   "source": [
    "array2 = np.array([1, 5, 2, 10, 12, 6])"
   ]
  },
  {
   "cell_type": "code",
   "execution_count": 24,
   "id": "252920d6-f7af-4997-9f54-3cc1794704fe",
   "metadata": {},
   "outputs": [
    {
     "data": {
      "text/plain": [
       "array([ 1,  6,  8, 18, 30, 36])"
      ]
     },
     "execution_count": 24,
     "metadata": {},
     "output_type": "execute_result"
    }
   ],
   "source": [
    "# Soma acumulada\n",
    "array2.cumsum()"
   ]
  },
  {
   "cell_type": "code",
   "execution_count": 25,
   "id": "f4ff22dc-97e7-4ca4-b323-a512c0309f11",
   "metadata": {},
   "outputs": [
    {
     "data": {
      "text/plain": [
       "array([   1,    5,   10,  100, 1200, 7200])"
      ]
     },
     "execution_count": 25,
     "metadata": {},
     "output_type": "execute_result"
    }
   ],
   "source": [
    "# Produto acumulado\n",
    "array2.cumprod()"
   ]
  },
  {
   "cell_type": "code",
   "execution_count": 29,
   "id": "d287b2b5-457c-49e0-b13d-f8edbfee5a53",
   "metadata": {},
   "outputs": [
    {
     "data": {
      "text/plain": [
       "array([ 0,  5, 10, 15, 20, 25, 30, 35, 40, 45])"
      ]
     },
     "execution_count": 29,
     "metadata": {},
     "output_type": "execute_result"
    }
   ],
   "source": [
    "# Criar array com uma progressão aritmética np.arange(start, stop, step)\n",
    "array3 = np.arange(0, 50, 5)\n",
    "array3"
   ]
  },
  {
   "cell_type": "code",
   "execution_count": 31,
   "id": "3386ec35-868a-4f3b-857b-f933bd945bd6",
   "metadata": {},
   "outputs": [
    {
     "data": {
      "text/plain": [
       "(10,)"
      ]
     },
     "execution_count": 31,
     "metadata": {},
     "output_type": "execute_result"
    }
   ],
   "source": [
    "# Formato do array\n",
    "np.shape(array3)"
   ]
  },
  {
   "cell_type": "code",
   "execution_count": 36,
   "id": "e10ef139-2dcb-4450-86ed-f8a7e63b92a7",
   "metadata": {},
   "outputs": [
    {
     "name": "stdout",
     "output_type": "stream",
     "text": [
      "int32\n"
     ]
    }
   ],
   "source": [
    "# Tipo dos elementos\n",
    "print(array3.dtype)"
   ]
  },
  {
   "cell_type": "code",
   "execution_count": 38,
   "id": "2c4f244b-dbf9-4b57-81fd-9f74ac481844",
   "metadata": {},
   "outputs": [
    {
     "data": {
      "text/plain": [
       "array([0., 0., 0., 0., 0., 0., 0., 0., 0., 0.])"
      ]
     },
     "execution_count": 38,
     "metadata": {},
     "output_type": "execute_result"
    }
   ],
   "source": [
    "# Cria um array preenchido com zeros\n",
    "array4 = np.zeros(10)\n",
    "array4"
   ]
  },
  {
   "cell_type": "code",
   "execution_count": 43,
   "id": "16a86eca-91a4-4333-9844-54d817ce23fc",
   "metadata": {},
   "outputs": [
    {
     "data": {
      "text/plain": [
       "array([[1., 0., 0.],\n",
       "       [0., 1., 0.],\n",
       "       [0., 0., 1.]])"
      ]
     },
     "execution_count": 43,
     "metadata": {},
     "output_type": "execute_result"
    }
   ],
   "source": [
    "# Retorna uma matriz diagonal somente com 1 e 0\n",
    "array5 = np.eye(3)\n",
    "array5"
   ]
  },
  {
   "cell_type": "code",
   "execution_count": 46,
   "id": "ca9ed879-fb54-4a0c-9823-1d2e7afcea9c",
   "metadata": {},
   "outputs": [
    {
     "data": {
      "text/plain": [
       "array([[1, 0, 0, 0],\n",
       "       [0, 2, 0, 0],\n",
       "       [0, 0, 3, 0],\n",
       "       [0, 0, 0, 4]])"
      ]
     },
     "execution_count": 46,
     "metadata": {},
     "output_type": "execute_result"
    }
   ],
   "source": [
    "# Os valores passados como parâmetro, formam uma diagonal\n",
    "array6 = np.diag(np.array([1, 2, 3, 4]))\n",
    "array6"
   ]
  },
  {
   "cell_type": "markdown",
   "id": "20ec31a1-de21-4d22-980e-e407bf8e30d9",
   "metadata": {},
   "source": [
    "A função linspace() do Numpy é usada para criar uma sequência de números igualmente espaçados dentro de um intervalo especificado. Essa função é amplamente utilizada em programação científica e matemática para gerar arrays de números para diversos fins, como gráficos, cálculos e simulações.\n",
    "\n",
    "O método linspace (linearly spaced vector) retorna um número de valores igualmemte distribuídos no intervalo especificado"
   ]
  },
  {
   "cell_type": "code",
   "execution_count": 49,
   "id": "ebdc6bb2-d349-4c0b-b5e4-10694c444478",
   "metadata": {},
   "outputs": [
    {
     "name": "stdout",
     "output_type": "stream",
     "text": [
      "[ 0.          0.20408163  0.40816327  0.6122449   0.81632653  1.02040816\n",
      "  1.2244898   1.42857143  1.63265306  1.83673469  2.04081633  2.24489796\n",
      "  2.44897959  2.65306122  2.85714286  3.06122449  3.26530612  3.46938776\n",
      "  3.67346939  3.87755102  4.08163265  4.28571429  4.48979592  4.69387755\n",
      "  4.89795918  5.10204082  5.30612245  5.51020408  5.71428571  5.91836735\n",
      "  6.12244898  6.32653061  6.53061224  6.73469388  6.93877551  7.14285714\n",
      "  7.34693878  7.55102041  7.75510204  7.95918367  8.16326531  8.36734694\n",
      "  8.57142857  8.7755102   8.97959184  9.18367347  9.3877551   9.59183673\n",
      "  9.79591837 10.        ]\n"
     ]
    }
   ],
   "source": [
    "print(np.linspace(0, 10))"
   ]
  },
  {
   "cell_type": "code",
   "execution_count": 51,
   "id": "e9bf3f45-7b60-4b50-b12a-28f8c594be3c",
   "metadata": {},
   "outputs": [
    {
     "name": "stdout",
     "output_type": "stream",
     "text": [
      "[ 0.          0.71428571  1.42857143  2.14285714  2.85714286  3.57142857\n",
      "  4.28571429  5.          5.71428571  6.42857143  7.14285714  7.85714286\n",
      "  8.57142857  9.28571429 10.        ]\n"
     ]
    }
   ],
   "source": [
    "print(np.linspace(0, 10, 15))"
   ]
  },
  {
   "cell_type": "markdown",
   "id": "b0987fe6-42b6-42e1-912e-50f1b396cf2c",
   "metadata": {},
   "source": [
    "A função logspace() do Numpy é usada para criar uma sequência de números igualmente espaçados em escala logarítmica dentro de um interalo especificado. Essa função é amplamente utilizada em programação científica e matemática para gerar arrays de números para diversos fins, como gráficos, cálculos e simulações."
   ]
  },
  {
   "cell_type": "code",
   "execution_count": 52,
   "id": "22491b1d-7821-4bee-9dac-fe066049dce6",
   "metadata": {},
   "outputs": [
    {
     "name": "stdout",
     "output_type": "stream",
     "text": [
      "[1.00000000e+00 5.17947468e+00 2.68269580e+01 1.38949549e+02\n",
      " 7.19685673e+02 3.72759372e+03 1.93069773e+04 1.00000000e+05\n",
      " 5.17947468e+05 2.68269580e+06 1.38949549e+07 7.19685673e+07\n",
      " 3.72759372e+08 1.93069773e+09 1.00000000e+10]\n"
     ]
    }
   ],
   "source": [
    "print(np.logspace(0, 10, 15))"
   ]
  },
  {
   "cell_type": "markdown",
   "id": "9390cf14-da67-4a43-b7e6-eac42e527654",
   "metadata": {},
   "source": [
    "### Manipulando Matrizes"
   ]
  },
  {
   "cell_type": "code",
   "execution_count": 54,
   "id": "ca3c8548-391d-499b-9eb9-2381f5ef84a1",
   "metadata": {},
   "outputs": [
    {
     "data": {
      "text/plain": [
       "array([[1, 2, 3],\n",
       "       [4, 5, 6]])"
      ]
     },
     "execution_count": 54,
     "metadata": {},
     "output_type": "execute_result"
    }
   ],
   "source": [
    "# Criando uma matriz\n",
    "array9 = np.array([[1, 2, 3], [4, 5, 6]])\n",
    "array9"
   ]
  },
  {
   "cell_type": "code",
   "execution_count": 56,
   "id": "2737a34e-60fc-4a75-9344-4a87ee77b2a9",
   "metadata": {},
   "outputs": [
    {
     "data": {
      "text/plain": [
       "array([[1., 1., 1.],\n",
       "       [1., 1., 1.]])"
      ]
     },
     "execution_count": 56,
     "metadata": {},
     "output_type": "execute_result"
    }
   ],
   "source": [
    "# Criando uma matriz 2x3 apenas com números \"1\"\n",
    "array10 = np.ones((2,3))\n",
    "array10"
   ]
  },
  {
   "cell_type": "code",
   "execution_count": 59,
   "id": "ea752247-d6eb-4fec-bb59-86c65ddb2322",
   "metadata": {},
   "outputs": [
    {
     "data": {
      "text/plain": [
       "matrix([[1, 2, 3],\n",
       "        [4, 5, 6],\n",
       "        [7, 8, 9]])"
      ]
     },
     "execution_count": 59,
     "metadata": {},
     "output_type": "execute_result"
    }
   ],
   "source": [
    "# Matriz 3x3\n",
    "lista = [[1, 2, 3], [4, 5, 6], [7, 8, 9]]\n",
    "array11 = np.matrix(lista)\n",
    "array11"
   ]
  },
  {
   "cell_type": "code",
   "execution_count": 61,
   "id": "8f8acd1d-b94d-4e63-8db5-3ea32b4335b8",
   "metadata": {},
   "outputs": [
    {
     "name": "stdout",
     "output_type": "stream",
     "text": [
      "int32\n"
     ]
    }
   ],
   "source": [
    "print(array11.dtype)"
   ]
  },
  {
   "cell_type": "code",
   "execution_count": 62,
   "id": "57369c42-5084-4d0e-82c4-dad87902b63e",
   "metadata": {},
   "outputs": [
    {
     "data": {
      "text/plain": [
       "5"
      ]
     },
     "execution_count": 62,
     "metadata": {},
     "output_type": "execute_result"
    }
   ],
   "source": [
    "# Indexação da matriz\n",
    "array11[1, 1]"
   ]
  },
  {
   "cell_type": "code",
   "execution_count": 63,
   "id": "a849ee86-741f-48a5-9b56-ab5d9755ffa0",
   "metadata": {},
   "outputs": [
    {
     "data": {
      "text/plain": [
       "matrix([[2],\n",
       "        [5],\n",
       "        [8]])"
      ]
     },
     "execution_count": 63,
     "metadata": {},
     "output_type": "execute_result"
    }
   ],
   "source": [
    "array11[0:3, 1]"
   ]
  },
  {
   "cell_type": "code",
   "execution_count": 64,
   "id": "6f3fffe8-7927-4d2f-807b-545aed6226ab",
   "metadata": {},
   "outputs": [
    {
     "data": {
      "text/plain": [
       "matrix([[4, 5, 6]])"
      ]
     },
     "execution_count": 64,
     "metadata": {},
     "output_type": "execute_result"
    }
   ],
   "source": [
    "array11[1,]"
   ]
  },
  {
   "cell_type": "markdown",
   "id": "f918aba3-9b42-4061-9045-7428693ca14a",
   "metadata": {},
   "source": [
    "### Manipulando Objetos de 3 e 4 Dimensões com NumPy"
   ]
  },
  {
   "cell_type": "code",
   "execution_count": 3,
   "id": "b455e1ac-8765-4eec-9723-eafc7870927a",
   "metadata": {},
   "outputs": [],
   "source": [
    "array_3d = np.array([\n",
    "    [\n",
    "        [1, 2 ,3 ,4],\n",
    "        [5, 6, 7, 8],\n",
    "        [9, 10, 11, 12]\n",
    "    ],\n",
    "    [\n",
    "        [13, 14, 15, 16],\n",
    "        [17, 18, 19, 20],\n",
    "        [21, 22, 23, 24]\n",
    "    ]\n",
    "])"
   ]
  },
  {
   "cell_type": "code",
   "execution_count": 4,
   "id": "893975e7-6f57-415b-bc13-53b354919c3d",
   "metadata": {},
   "outputs": [
    {
     "name": "stdout",
     "output_type": "stream",
     "text": [
      "[[[ 1  2  3  4]\n",
      "  [ 5  6  7  8]\n",
      "  [ 9 10 11 12]]\n",
      "\n",
      " [[13 14 15 16]\n",
      "  [17 18 19 20]\n",
      "  [21 22 23 24]]]\n"
     ]
    }
   ],
   "source": [
    "print(array_3d)"
   ]
  },
  {
   "cell_type": "code",
   "execution_count": 5,
   "id": "bfd9878b-0857-49d8-9b10-2ecb6dad1d76",
   "metadata": {},
   "outputs": [
    {
     "data": {
      "text/plain": [
       "3"
      ]
     },
     "execution_count": 5,
     "metadata": {},
     "output_type": "execute_result"
    }
   ],
   "source": [
    "array_3d.ndim"
   ]
  },
  {
   "cell_type": "code",
   "execution_count": 6,
   "id": "1757aa46-ed0c-476c-8aa6-36d6980d014c",
   "metadata": {},
   "outputs": [
    {
     "data": {
      "text/plain": [
       "(2, 3, 4)"
      ]
     },
     "execution_count": 6,
     "metadata": {},
     "output_type": "execute_result"
    }
   ],
   "source": [
    "array_3d.shape"
   ]
  },
  {
   "cell_type": "code",
   "execution_count": 7,
   "id": "be34d05a-34ea-447a-a0f4-958dcdba4723",
   "metadata": {},
   "outputs": [
    {
     "data": {
      "text/plain": [
       "10"
      ]
     },
     "execution_count": 7,
     "metadata": {},
     "output_type": "execute_result"
    }
   ],
   "source": [
    "array_3d[0, 2, 1]"
   ]
  },
  {
   "cell_type": "code",
   "execution_count": 8,
   "id": "dd5b84d6-967f-4aa5-b8a4-d92b0245ecf6",
   "metadata": {},
   "outputs": [],
   "source": [
    "array_4d = np.random.randint(0, 100, (2, 3, 4, 5))"
   ]
  },
  {
   "cell_type": "code",
   "execution_count": 9,
   "id": "4c195e00-ab55-4941-b560-9744a58d3df1",
   "metadata": {},
   "outputs": [
    {
     "name": "stdout",
     "output_type": "stream",
     "text": [
      "[[[[ 9 33 41 21 19]\n",
      "   [30 22 61 62 25]\n",
      "   [80 59 67  4 18]\n",
      "   [10 95 98 79 63]]\n",
      "\n",
      "  [[67 40 78 94 41]\n",
      "   [62 95 49 49 21]\n",
      "   [34 25 18 68 60]\n",
      "   [17 22  6 65 61]]\n",
      "\n",
      "  [[ 6 54 59  1 82]\n",
      "   [23 48 84 12 70]\n",
      "   [48 88 52  8 60]\n",
      "   [74 33 52 16 18]]]\n",
      "\n",
      "\n",
      " [[[71 12 24 22 29]\n",
      "   [ 4  3 73 31 50]\n",
      "   [61 55 41 42  3]\n",
      "   [78 59  3 25 88]]\n",
      "\n",
      "  [[15 88 97 15 95]\n",
      "   [17 50 98 97 62]\n",
      "   [ 0 13 86 57  5]\n",
      "   [75  3 39 96 74]]\n",
      "\n",
      "  [[46 90 71 22 45]\n",
      "   [89 69 17 88 23]\n",
      "   [33 78 63 53 44]\n",
      "   [65 74 87 78 81]]]]\n"
     ]
    }
   ],
   "source": [
    "print(array_4d)"
   ]
  },
  {
   "cell_type": "code",
   "execution_count": 12,
   "id": "e5b75959-3f6e-460f-b922-69665cd9f021",
   "metadata": {},
   "outputs": [
    {
     "data": {
      "text/plain": [
       "41"
      ]
     },
     "execution_count": 12,
     "metadata": {},
     "output_type": "execute_result"
    }
   ],
   "source": [
    "array_4d[1, 0, 2, 2]"
   ]
  },
  {
   "cell_type": "markdown",
   "id": "2e2c44ce-7bae-4aab-926a-da2b2076f037",
   "metadata": {},
   "source": [
    "### Manipulando arquivos com NumPy"
   ]
  },
  {
   "cell_type": "code",
   "execution_count": 2,
   "id": "8ab370fb-6cd9-4cdc-999f-86f972c9ce6f",
   "metadata": {},
   "outputs": [],
   "source": [
    "import os\n",
    "filename = os.path.join(\"dataset.csv\")"
   ]
  },
  {
   "cell_type": "code",
   "execution_count": 3,
   "id": "be42b801-6a63-47a8-a007-90930393d323",
   "metadata": {},
   "outputs": [
    {
     "name": "stdout",
     "output_type": "stream",
     "text": [
      "sepal_length,sepal_width,petal_length,petal_width,species\n",
      "5.1,3.5,1.4,0.2,setosa\n",
      "4.9,3,1.4,0.2,setosa\n",
      "4.7,3.2,1.3,0.2,setosa\n",
      "4.6,3.1,1.5,0.2,setosa\n",
      "5,3.6,1.4,0.2,setosa\n",
      "5.4,3.9,1.7,0.4,setosa\n",
      "4.6,3.4,1.4,0.3,setosa\n",
      "5,3.4,1.5,0.2,setosa\n",
      "4.4,2.9,1.4,0.2,setosa\n",
      "4.9,3.1,1.5,0.1,setosa\n",
      "5.4,3.7,1.5,0.2,setosa\n",
      "4.8,3.4,1.6,0.2,setosa\n",
      "4.8,3,1.4,0.1,setosa\n",
      "4.3,3,1.1,0.1,setosa\n",
      "5.8,4,1.2,0.2,setosa\n",
      "5.7,4.4,1.5,0.4,setosa\n",
      "5.4,3.9,1.3,0.4,setosa\n",
      "5.1,3.5,1.4,0.3,setosa\n",
      "5.7,3.8,1.7,0.3,setosa\n",
      "5.1,3.8,1.5,0.3,setosa\n",
      "5.4,3.4,1.7,0.2,setosa\n",
      "5.1,3.7,1.5,0.4,setosa\n",
      "4.6,3.6,1,0.2,setosa\n",
      "5.1,3.3,1.7,0.5,setosa\n",
      "4.8,3.4,1.9,0.2,setosa\n",
      "5,3,1.6,0.2,setosa\n",
      "5,3.4,1.6,0.4,setosa\n",
      "5.2,3.5,1.5,0.2,setosa\n",
      "5.2,3.4,1.4,0.2,setosa\n",
      "4.7,3.2,1.6,0.2,setosa\n",
      "4.8,3.1,1.6,0.2,setosa\n",
      "5.4,3.4,1.5,0.4,setosa\n",
      "5.2,4.1,1.5,0.1,setosa\n",
      "5.5,4.2,1.4,0.2,setosa\n",
      "4.9,3.1,1.5,0.1,setosa\n",
      "5,3.2,1.2,0.2,setosa\n",
      "5.5,3.5,1.3,0.2,setosa\n",
      "4.9,3.1,1.5,0.1,setosa\n",
      "4.4,3,1.3,0.2,setosa\n",
      "5.1,3.4,1.5,0.2,setosa\n",
      "5,3.5,1.3,0.3,setosa\n",
      "4.5,2.3,1.3,0.3,setosa\n",
      "4.4,3.2,1.3,0.2,setosa\n",
      "5,3.5,1.6,0.6,setosa\n",
      "5.1,3.8,1.9,0.4,setosa\n",
      "4.8,3,1.4,0.3,setosa\n",
      "5.1,3.8,1.6,0.2,setosa\n",
      "4.6,3.2,1.4,0.2,setosa\n",
      "5.3,3.7,1.5,0.2,setosa\n",
      "5,3.3,1.4,0.2,setosa\n",
      "7,3.2,4.7,1.4,versicolor\n",
      "6.4,3.2,4.5,1.5,versicolor\n",
      "6.9,3.1,4.9,1.5,versicolor\n",
      "5.5,2.3,4,1.3,versicolor\n",
      "6.5,2.8,4.6,1.5,versicolor\n",
      "5.7,2.8,4.5,1.3,versicolor\n",
      "6.3,3.3,4.7,1.6,versicolor\n",
      "4.9,2.4,3.3,1,versicolor\n",
      "6.6,2.9,4.6,1.3,versicolor\n",
      "5.2,2.7,3.9,1.4,versicolor\n",
      "5,2,3.5,1,versicolor\n",
      "5.9,3,4.2,1.5,versicolor\n",
      "6,2.2,4,1,versicolor\n",
      "6.1,2.9,4.7,1.4,versicolor\n",
      "5.6,2.9,3.6,1.3,versicolor\n",
      "6.7,3.1,4.4,1.4,versicolor\n",
      "5.6,3,4.5,1.5,versicolor\n",
      "5.8,2.7,4.1,1,versicolor\n",
      "6.2,2.2,4.5,1.5,versicolor\n",
      "5.6,2.5,3.9,1.1,versicolor\n",
      "5.9,3.2,4.8,1.8,versicolor\n",
      "6.1,2.8,4,1.3,versicolor\n",
      "6.3,2.5,4.9,1.5,versicolor\n",
      "6.1,2.8,4.7,1.2,versicolor\n",
      "6.4,2.9,4.3,1.3,versicolor\n",
      "6.6,3,4.4,1.4,versicolor\n",
      "6.8,2.8,4.8,1.4,versicolor\n",
      "6.7,3,5,1.7,versicolor\n",
      "6,2.9,4.5,1.5,versicolor\n",
      "5.7,2.6,3.5,1,versicolor\n",
      "5.5,2.4,3.8,1.1,versicolor\n",
      "5.5,2.4,3.7,1,versicolor\n",
      "5.8,2.7,3.9,1.2,versicolor\n",
      "6,2.7,5.1,1.6,versicolor\n",
      "5.4,3,4.5,1.5,versicolor\n",
      "6,3.4,4.5,1.6,versicolor\n",
      "6.7,3.1,4.7,1.5,versicolor\n",
      "6.3,2.3,4.4,1.3,versicolor\n",
      "5.6,3,4.1,1.3,versicolor\n",
      "5.5,2.5,4,1.3,versicolor\n",
      "5.5,2.6,4.4,1.2,versicolor\n",
      "6.1,3,4.6,1.4,versicolor\n",
      "5.8,2.6,4,1.2,versicolor\n",
      "5,2.3,3.3,1,versicolor\n",
      "5.6,2.7,4.2,1.3,versicolor\n",
      "5.7,3,4.2,1.2,versicolor\n",
      "5.7,2.9,4.2,1.3,versicolor\n",
      "6.2,2.9,4.3,1.3,versicolor\n",
      "5.1,2.5,3,1.1,versicolor\n",
      "5.7,2.8,4.1,1.3,versicolor\n",
      "6.3,3.3,6,2.5,virginica\n",
      "5.8,2.7,5.1,1.9,virginica\n",
      "7.1,3,5.9,2.1,virginica\n",
      "6.3,2.9,5.6,1.8,virginica\n",
      "6.5,3,5.8,2.2,virginica\n",
      "7.6,3,6.6,2.1,virginica\n",
      "4.9,2.5,4.5,1.7,virginica\n",
      "7.3,2.9,6.3,1.8,virginica\n",
      "6.7,2.5,5.8,1.8,virginica\n",
      "7.2,3.6,6.1,2.5,virginica\n",
      "6.5,3.2,5.1,2,virginica\n",
      "6.4,2.7,5.3,1.9,virginica\n",
      "6.8,3,5.5,2.1,virginica\n",
      "5.7,2.5,5,2,virginica\n",
      "5.8,2.8,5.1,2.4,virginica\n",
      "6.4,3.2,5.3,2.3,virginica\n",
      "6.5,3,5.5,1.8,virginica\n",
      "7.7,3.8,6.7,2.2,virginica\n",
      "7.7,2.6,6.9,2.3,virginica\n",
      "6,2.2,5,1.5,virginica\n",
      "6.9,3.2,5.7,2.3,virginica\n",
      "5.6,2.8,4.9,2,virginica\n",
      "7.7,2.8,6.7,2,virginica\n",
      "6.3,2.7,4.9,1.8,virginica\n",
      "6.7,3.3,5.7,2.1,virginica\n",
      "7.2,3.2,6,1.8,virginica\n",
      "6.2,2.8,4.8,1.8,virginica\n",
      "6.1,3,4.9,1.8,virginica\n",
      "6.4,2.8,5.6,2.1,virginica\n",
      "7.2,3,5.8,1.6,virginica\n",
      "7.4,2.8,6.1,1.9,virginica\n",
      "7.9,3.8,6.4,2,virginica\n",
      "6.4,2.8,5.6,2.2,virginica\n",
      "6.3,2.8,5.1,1.5,virginica\n",
      "6.1,2.6,5.6,1.4,virginica\n",
      "7.7,3,6.1,2.3,virginica\n",
      "6.3,3.4,5.6,2.4,virginica\n",
      "6.4,3.1,5.5,1.8,virginica\n",
      "6,3,4.8,1.8,virginica\n",
      "6.9,3.1,5.4,2.1,virginica\n",
      "6.7,3.1,5.6,2.4,virginica\n",
      "6.9,3.1,5.1,2.3,virginica\n",
      "5.8,2.7,5.1,1.9,virginica\n",
      "6.8,3.2,5.9,2.3,virginica\n",
      "6.7,3.3,5.7,2.5,virginica\n",
      "6.7,3,5.2,2.3,virginica\n",
      "6.3,2.5,5,1.9,virginica\n",
      "6.5,3,5.2,2,virginica\n",
      "6.2,3.4,5.4,2.3,virginica\n",
      "5.9,3,5.1,1.8,virginica\n"
     ]
    }
   ],
   "source": [
    "!more dataset.csv"
   ]
  },
  {
   "cell_type": "code",
   "execution_count": 6,
   "id": "5de570d9-a2fc-4f98-a7a8-ba6d8d963357",
   "metadata": {},
   "outputs": [],
   "source": [
    "# Carregando as colunas em um array\n",
    "flowers_array = np.loadtxt(filename, delimiter = ',', usecols = (0, 1, 2, 3), skiprows = 1)"
   ]
  },
  {
   "cell_type": "code",
   "execution_count": 7,
   "id": "093ca0d5-33c8-4b79-a57d-53470928d1f6",
   "metadata": {},
   "outputs": [
    {
     "name": "stdout",
     "output_type": "stream",
     "text": [
      "[[5.1 3.5 1.4 0.2]\n",
      " [4.9 3.  1.4 0.2]\n",
      " [4.7 3.2 1.3 0.2]\n",
      " [4.6 3.1 1.5 0.2]\n",
      " [5.  3.6 1.4 0.2]\n",
      " [5.4 3.9 1.7 0.4]\n",
      " [4.6 3.4 1.4 0.3]\n",
      " [5.  3.4 1.5 0.2]\n",
      " [4.4 2.9 1.4 0.2]\n",
      " [4.9 3.1 1.5 0.1]\n",
      " [5.4 3.7 1.5 0.2]\n",
      " [4.8 3.4 1.6 0.2]\n",
      " [4.8 3.  1.4 0.1]\n",
      " [4.3 3.  1.1 0.1]\n",
      " [5.8 4.  1.2 0.2]\n",
      " [5.7 4.4 1.5 0.4]\n",
      " [5.4 3.9 1.3 0.4]\n",
      " [5.1 3.5 1.4 0.3]\n",
      " [5.7 3.8 1.7 0.3]\n",
      " [5.1 3.8 1.5 0.3]\n",
      " [5.4 3.4 1.7 0.2]\n",
      " [5.1 3.7 1.5 0.4]\n",
      " [4.6 3.6 1.  0.2]\n",
      " [5.1 3.3 1.7 0.5]\n",
      " [4.8 3.4 1.9 0.2]\n",
      " [5.  3.  1.6 0.2]\n",
      " [5.  3.4 1.6 0.4]\n",
      " [5.2 3.5 1.5 0.2]\n",
      " [5.2 3.4 1.4 0.2]\n",
      " [4.7 3.2 1.6 0.2]\n",
      " [4.8 3.1 1.6 0.2]\n",
      " [5.4 3.4 1.5 0.4]\n",
      " [5.2 4.1 1.5 0.1]\n",
      " [5.5 4.2 1.4 0.2]\n",
      " [4.9 3.1 1.5 0.1]\n",
      " [5.  3.2 1.2 0.2]\n",
      " [5.5 3.5 1.3 0.2]\n",
      " [4.9 3.1 1.5 0.1]\n",
      " [4.4 3.  1.3 0.2]\n",
      " [5.1 3.4 1.5 0.2]\n",
      " [5.  3.5 1.3 0.3]\n",
      " [4.5 2.3 1.3 0.3]\n",
      " [4.4 3.2 1.3 0.2]\n",
      " [5.  3.5 1.6 0.6]\n",
      " [5.1 3.8 1.9 0.4]\n",
      " [4.8 3.  1.4 0.3]\n",
      " [5.1 3.8 1.6 0.2]\n",
      " [4.6 3.2 1.4 0.2]\n",
      " [5.3 3.7 1.5 0.2]\n",
      " [5.  3.3 1.4 0.2]\n",
      " [7.  3.2 4.7 1.4]\n",
      " [6.4 3.2 4.5 1.5]\n",
      " [6.9 3.1 4.9 1.5]\n",
      " [5.5 2.3 4.  1.3]\n",
      " [6.5 2.8 4.6 1.5]\n",
      " [5.7 2.8 4.5 1.3]\n",
      " [6.3 3.3 4.7 1.6]\n",
      " [4.9 2.4 3.3 1. ]\n",
      " [6.6 2.9 4.6 1.3]\n",
      " [5.2 2.7 3.9 1.4]\n",
      " [5.  2.  3.5 1. ]\n",
      " [5.9 3.  4.2 1.5]\n",
      " [6.  2.2 4.  1. ]\n",
      " [6.1 2.9 4.7 1.4]\n",
      " [5.6 2.9 3.6 1.3]\n",
      " [6.7 3.1 4.4 1.4]\n",
      " [5.6 3.  4.5 1.5]\n",
      " [5.8 2.7 4.1 1. ]\n",
      " [6.2 2.2 4.5 1.5]\n",
      " [5.6 2.5 3.9 1.1]\n",
      " [5.9 3.2 4.8 1.8]\n",
      " [6.1 2.8 4.  1.3]\n",
      " [6.3 2.5 4.9 1.5]\n",
      " [6.1 2.8 4.7 1.2]\n",
      " [6.4 2.9 4.3 1.3]\n",
      " [6.6 3.  4.4 1.4]\n",
      " [6.8 2.8 4.8 1.4]\n",
      " [6.7 3.  5.  1.7]\n",
      " [6.  2.9 4.5 1.5]\n",
      " [5.7 2.6 3.5 1. ]\n",
      " [5.5 2.4 3.8 1.1]\n",
      " [5.5 2.4 3.7 1. ]\n",
      " [5.8 2.7 3.9 1.2]\n",
      " [6.  2.7 5.1 1.6]\n",
      " [5.4 3.  4.5 1.5]\n",
      " [6.  3.4 4.5 1.6]\n",
      " [6.7 3.1 4.7 1.5]\n",
      " [6.3 2.3 4.4 1.3]\n",
      " [5.6 3.  4.1 1.3]\n",
      " [5.5 2.5 4.  1.3]\n",
      " [5.5 2.6 4.4 1.2]\n",
      " [6.1 3.  4.6 1.4]\n",
      " [5.8 2.6 4.  1.2]\n",
      " [5.  2.3 3.3 1. ]\n",
      " [5.6 2.7 4.2 1.3]\n",
      " [5.7 3.  4.2 1.2]\n",
      " [5.7 2.9 4.2 1.3]\n",
      " [6.2 2.9 4.3 1.3]\n",
      " [5.1 2.5 3.  1.1]\n",
      " [5.7 2.8 4.1 1.3]\n",
      " [6.3 3.3 6.  2.5]\n",
      " [5.8 2.7 5.1 1.9]\n",
      " [7.1 3.  5.9 2.1]\n",
      " [6.3 2.9 5.6 1.8]\n",
      " [6.5 3.  5.8 2.2]\n",
      " [7.6 3.  6.6 2.1]\n",
      " [4.9 2.5 4.5 1.7]\n",
      " [7.3 2.9 6.3 1.8]\n",
      " [6.7 2.5 5.8 1.8]\n",
      " [7.2 3.6 6.1 2.5]\n",
      " [6.5 3.2 5.1 2. ]\n",
      " [6.4 2.7 5.3 1.9]\n",
      " [6.8 3.  5.5 2.1]\n",
      " [5.7 2.5 5.  2. ]\n",
      " [5.8 2.8 5.1 2.4]\n",
      " [6.4 3.2 5.3 2.3]\n",
      " [6.5 3.  5.5 1.8]\n",
      " [7.7 3.8 6.7 2.2]\n",
      " [7.7 2.6 6.9 2.3]\n",
      " [6.  2.2 5.  1.5]\n",
      " [6.9 3.2 5.7 2.3]\n",
      " [5.6 2.8 4.9 2. ]\n",
      " [7.7 2.8 6.7 2. ]\n",
      " [6.3 2.7 4.9 1.8]\n",
      " [6.7 3.3 5.7 2.1]\n",
      " [7.2 3.2 6.  1.8]\n",
      " [6.2 2.8 4.8 1.8]\n",
      " [6.1 3.  4.9 1.8]\n",
      " [6.4 2.8 5.6 2.1]\n",
      " [7.2 3.  5.8 1.6]\n",
      " [7.4 2.8 6.1 1.9]\n",
      " [7.9 3.8 6.4 2. ]\n",
      " [6.4 2.8 5.6 2.2]\n",
      " [6.3 2.8 5.1 1.5]\n",
      " [6.1 2.6 5.6 1.4]\n",
      " [7.7 3.  6.1 2.3]\n",
      " [6.3 3.4 5.6 2.4]\n",
      " [6.4 3.1 5.5 1.8]\n",
      " [6.  3.  4.8 1.8]\n",
      " [6.9 3.1 5.4 2.1]\n",
      " [6.7 3.1 5.6 2.4]\n",
      " [6.9 3.1 5.1 2.3]\n",
      " [5.8 2.7 5.1 1.9]\n",
      " [6.8 3.2 5.9 2.3]\n",
      " [6.7 3.3 5.7 2.5]\n",
      " [6.7 3.  5.2 2.3]\n",
      " [6.3 2.5 5.  1.9]\n",
      " [6.5 3.  5.2 2. ]\n",
      " [6.2 3.4 5.4 2.3]\n",
      " [5.9 3.  5.1 1.8]]\n"
     ]
    }
   ],
   "source": [
    "print(flowers_array)"
   ]
  },
  {
   "cell_type": "code",
   "execution_count": 9,
   "id": "b10df531-dc60-459c-95f2-28629b1d1b03",
   "metadata": {},
   "outputs": [],
   "source": [
    "# Carregando 2 colunas em 2 arrays diferentes\n",
    "var1, var2 = np.loadtxt(filename, delimiter = \",\", usecols = (0, 1), skiprows = 1, unpack = True)"
   ]
  },
  {
   "cell_type": "code",
   "execution_count": 13,
   "id": "fbc59bf1-7439-4d7b-8cf7-2d89e3bfe669",
   "metadata": {},
   "outputs": [
    {
     "data": {
      "image/png": "[encoded data removed]",
      "text/plain": [
       "<Figure size 640x480 with 1 Axes>"
      ]
     },
     "metadata": {},
     "output_type": "display_data"
    }
   ],
   "source": [
    "# Gerando um plot a partir de um arquivo usando NumPy\n",
    "import matplotlib.pyplot as plt\n",
    "plt.show(plt.plot(var1, var2, \"o\", markersize = 6, color = \"red\"))"
   ]
  },
  {
   "cell_type": "markdown",
   "id": "39cd0d88-331a-491b-a1b2-109b4a4864d7",
   "metadata": {},
   "source": [
    "### Análise Estatística Básica com NumPy"
   ]
  },
  {
   "cell_type": "code",
   "execution_count": 20,
   "id": "acc6fac0-104c-4e3b-b4ac-2b7b9cc97690",
   "metadata": {},
   "outputs": [],
   "source": [
    "array14 = np.array([5, 10, 6, 24, 7])"
   ]
  },
  {
   "cell_type": "code",
   "execution_count": 21,
   "id": "9c95b03a-e13c-4021-8c02-9d06cffff2e4",
   "metadata": {},
   "outputs": [
    {
     "data": {
      "text/plain": [
       "10.4"
      ]
     },
     "execution_count": 21,
     "metadata": {},
     "output_type": "execute_result"
    }
   ],
   "source": [
    "# Média\n",
    "np.mean(array14)"
   ]
  },
  {
   "cell_type": "code",
   "execution_count": 17,
   "id": "64e42c72-f96b-4855-b1a5-b582c91c9c07",
   "metadata": {},
   "outputs": [
    {
     "data": {
      "text/plain": [
       "7.002856560004639"
      ]
     },
     "execution_count": 17,
     "metadata": {},
     "output_type": "execute_result"
    }
   ],
   "source": [
    "# Desvio Padrão\n",
    "np.std(array14)"
   ]
  },
  {
   "cell_type": "code",
   "execution_count": 23,
   "id": "6a4b08bf-c1b6-4f8b-b6e2-8b9624932200",
   "metadata": {},
   "outputs": [
    {
     "data": {
      "text/plain": [
       "49.04"
      ]
     },
     "execution_count": 23,
     "metadata": {},
     "output_type": "execute_result"
    }
   ],
   "source": [
    "# Variância\n",
    "np.var(array14)"
   ]
  },
  {
   "cell_type": "markdown",
   "id": "23e8e765-f070-4fbd-bed2-497f3073bb17",
   "metadata": {},
   "source": [
    "### Operações Matemáticas com Arrays NumPy"
   ]
  },
  {
   "cell_type": "code",
   "execution_count": 24,
   "id": "fd1eed91-dd9e-4237-9361-352c556bd9c0",
   "metadata": {},
   "outputs": [],
   "source": [
    "array15 = np.arange(1, 10)"
   ]
  },
  {
   "cell_type": "code",
   "execution_count": 25,
   "id": "20f9f28f-b6b8-4d9f-a209-bf0565467c58",
   "metadata": {},
   "outputs": [
    {
     "data": {
      "text/plain": [
       "45"
      ]
     },
     "execution_count": 25,
     "metadata": {},
     "output_type": "execute_result"
    }
   ],
   "source": [
    "np.sum(array15)"
   ]
  },
  {
   "cell_type": "code",
   "execution_count": 26,
   "id": "37de4ff7-cc6e-417a-ac3d-92ffcbf3bd17",
   "metadata": {},
   "outputs": [
    {
     "data": {
      "text/plain": [
       "362880"
      ]
     },
     "execution_count": 26,
     "metadata": {},
     "output_type": "execute_result"
    }
   ],
   "source": [
    "np.prod(array15)"
   ]
  },
  {
   "cell_type": "code",
   "execution_count": 27,
   "id": "46e69c8f-b472-44d0-89a9-bafcd92d32c5",
   "metadata": {},
   "outputs": [
    {
     "data": {
      "text/plain": [
       "array([ 1,  3,  6, 10, 15, 21, 28, 36, 45])"
      ]
     },
     "execution_count": 27,
     "metadata": {},
     "output_type": "execute_result"
    }
   ],
   "source": [
    "np.cumsum(array15)"
   ]
  },
  {
   "cell_type": "code",
   "execution_count": 44,
   "id": "e2795395-1cd6-4441-9a53-e561e4db6505",
   "metadata": {},
   "outputs": [
    {
     "name": "stdout",
     "output_type": "stream",
     "text": [
      "[2 2 4 1 5 4]\n",
      "[3 5 1 1 1 4]\n"
     ]
    }
   ],
   "source": [
    "array16 = np.random.randint(0, 6, (6))\n",
    "array17 = np.random.randint(0, 6, (6))\n",
    "print(array16)\n",
    "print(array17)"
   ]
  },
  {
   "cell_type": "code",
   "execution_count": 45,
   "id": "7d5720e6-ddd4-4a48-89c0-2a4c5f0066ed",
   "metadata": {},
   "outputs": [],
   "source": [
    "# Soma de elementos de uma matriz com outra\n",
    "array18 = np.add(array16, array17)"
   ]
  },
  {
   "cell_type": "code",
   "execution_count": 47,
   "id": "0a122205-eecf-422f-9e6b-a12370cedf4b",
   "metadata": {},
   "outputs": [
    {
     "data": {
      "text/plain": [
       "array([5, 7, 5, 2, 6, 8])"
      ]
     },
     "execution_count": 47,
     "metadata": {},
     "output_type": "execute_result"
    }
   ],
   "source": [
    "array18"
   ]
  },
  {
   "cell_type": "code",
   "execution_count": 49,
   "id": "6f12360e-7d1c-4db7-9e22-fe9c608a2655",
   "metadata": {},
   "outputs": [
    {
     "name": "stdout",
     "output_type": "stream",
     "text": [
      "[[5 4]\n",
      " [3 2]]\n",
      "[[7 5]\n",
      " [8 3]]\n"
     ]
    }
   ],
   "source": [
    "array19 = np.random.randint(1, 10, (2,2))\n",
    "array20 = np.random.randint(1, 10, (2,2))\n",
    "print(array19)\n",
    "print(array20)"
   ]
  },
  {
   "cell_type": "code",
   "execution_count": 50,
   "id": "57ae831e-053f-4fbb-9684-4223e6334210",
   "metadata": {},
   "outputs": [
    {
     "name": "stdout",
     "output_type": "stream",
     "text": [
      "[[67 37]\n",
      " [37 21]]\n"
     ]
    }
   ],
   "source": [
    "# Multiplicação de Matrizes\n",
    "array21 = np.dot(array19, array20)\n",
    "print(array21)"
   ]
  },
  {
   "cell_type": "markdown",
   "id": "0a9e4018-87e8-443d-b4c1-80763513a5be",
   "metadata": {},
   "source": [
    "### Slicing (Fatiamento) de Arrays NumPy"
   ]
  },
  {
   "cell_type": "code",
   "execution_count": 56,
   "id": "cd14088a-ae82-4146-9793-b4efc32edf03",
   "metadata": {},
   "outputs": [],
   "source": [
    "array22 = np.diag(np.arange(3))"
   ]
  },
  {
   "cell_type": "code",
   "execution_count": 57,
   "id": "fa07842d-36f3-4ea9-9736-63517b55fee9",
   "metadata": {},
   "outputs": [
    {
     "data": {
      "text/plain": [
       "array([[0, 0, 0],\n",
       "       [0, 1, 0],\n",
       "       [0, 0, 2]])"
      ]
     },
     "execution_count": 57,
     "metadata": {},
     "output_type": "execute_result"
    }
   ],
   "source": [
    "array22"
   ]
  },
  {
   "cell_type": "code",
   "execution_count": 58,
   "id": "7f28fb81-53b0-4d56-be38-ffc232ef806d",
   "metadata": {},
   "outputs": [
    {
     "data": {
      "text/plain": [
       "array([0, 0, 0, 0, 1, 0, 0, 0, 2])"
      ]
     },
     "execution_count": 58,
     "metadata": {},
     "output_type": "execute_result"
    }
   ],
   "source": [
    "array22.flatten()"
   ]
  },
  {
   "cell_type": "code",
   "execution_count": 60,
   "id": "0f469f1a-ae0e-4be6-8e43-cd6aee053704",
   "metadata": {},
   "outputs": [
    {
     "data": {
      "text/plain": [
       "array([0, 0, 0, 0, 0, 0, 0, 0, 1, 1, 0, 0, 0, 0, 0, 0, 2, 2])"
      ]
     },
     "execution_count": 60,
     "metadata": {},
     "output_type": "execute_result"
    }
   ],
   "source": [
    "np.repeat(array22, 2)"
   ]
  },
  {
   "cell_type": "code",
   "execution_count": 61,
   "id": "3d2e4464-72f6-4c10-95d2-0317355835e2",
   "metadata": {},
   "outputs": [
    {
     "data": {
      "text/plain": [
       "array([[0, 0, 0, 0, 0, 0],\n",
       "       [0, 1, 0, 0, 1, 0],\n",
       "       [0, 0, 2, 0, 0, 2]])"
      ]
     },
     "execution_count": 61,
     "metadata": {},
     "output_type": "execute_result"
    }
   ],
   "source": [
    "np.tile(array22, 2)"
   ]
  },
  {
   "cell_type": "code",
   "execution_count": 62,
   "id": "dd7c9473-ec78-4bdf-b99b-60e6003a1810",
   "metadata": {},
   "outputs": [],
   "source": [
    "array23 = np.copy(array22)"
   ]
  },
  {
   "cell_type": "code",
   "execution_count": 63,
   "id": "60a3b6ec-d3cd-4114-b6a4-f5ca057d6e0d",
   "metadata": {},
   "outputs": [
    {
     "data": {
      "text/plain": [
       "array([[0, 0, 0],\n",
       "       [0, 1, 0],\n",
       "       [0, 0, 2]])"
      ]
     },
     "execution_count": 63,
     "metadata": {},
     "output_type": "execute_result"
    }
   ],
   "source": [
    "array23"
   ]
  },
  {
   "cell_type": "code",
   "execution_count": null,
   "id": "149557e6-e479-4c1e-bc10-1f46b159c04f",
   "metadata": {},
   "outputs": [],
   "source": []
  }
 ],
 "metadata": {
  "kernelspec": {
   "display_name": "Python 3 (ipykernel)",
   "language": "python",
   "name": "python3"
  },
  "language_info": {
   "codemirror_mode": {
    "name": "ipython",
    "version": 3
   },
   "file_extension": ".py",
   "mimetype": "text/x-python",
   "name": "python",
   "nbconvert_exporter": "python",
   "pygments_lexer": "ipython3",
   "version": "3.12.7"
  }
 },
 "nbformat": 4,
 "nbformat_minor": 5
}
