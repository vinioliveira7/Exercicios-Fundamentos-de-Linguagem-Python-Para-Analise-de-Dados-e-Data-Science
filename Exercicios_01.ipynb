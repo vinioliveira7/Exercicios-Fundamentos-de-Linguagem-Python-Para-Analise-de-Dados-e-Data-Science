{
 "cells": [
  {
   "cell_type": "markdown",
   "id": "9b6e6cf4-1d37-4a2f-8788-362bd7855a23",
   "metadata": {},
   "source": [
    "# Exercicios resolvidos"
   ]
  },
  {
   "cell_type": "markdown",
   "id": "1f860ba2-5f9b-4b96-828c-f547b77f96dc",
   "metadata": {},
   "source": [
    "## 01) Imprima na tela os números de 1 a 10. Use uma lista para armazenas os numeros."
   ]
  },
  {
   "cell_type": "code",
   "execution_count": 4,
   "id": "c3828ab8-c8ff-437c-ad79-9057f5cd31e3",
   "metadata": {},
   "outputs": [
    {
     "name": "stdout",
     "output_type": "stream",
     "text": [
      "[1, 2, 3, 4, 5, 6, 7, 8, 9, 10]\n"
     ]
    }
   ],
   "source": [
    "number_list = []\n",
    "for i in range(1, 11):\n",
    "    number_list.append(i)\n",
    "print(number_list)"
   ]
  },
  {
   "cell_type": "markdown",
   "id": "210d32e4-7404-4dff-9532-6d186b14831c",
   "metadata": {},
   "source": [
    "## 02) Crie uma lista de 5 objetos e imprima na tela"
   ]
  },
  {
   "cell_type": "code",
   "execution_count": 6,
   "id": "ec15ec4f-10c9-47ff-817b-e177208fbd56",
   "metadata": {},
   "outputs": [
    {
     "name": "stdout",
     "output_type": "stream",
     "text": [
      "[1, 'Vinii7x', 1.8, 'Hello', 3]\n"
     ]
    }
   ],
   "source": [
    "random_list = [1, \"Vinii7x\", 1.8, \"Hello\", 3]\n",
    "print(random_list)"
   ]
  },
  {
   "cell_type": "markdown",
   "id": "d668a9b0-81b6-4384-bb05-f0fde5c8a367",
   "metadata": {},
   "source": [
    "## 03) Crie duas strings e concatene as duas em uma terceira string"
   ]
  },
  {
   "cell_type": "code",
   "execution_count": 18,
   "id": "a66de76d-c8f5-4295-af2e-7ee9d99942e8",
   "metadata": {},
   "outputs": [
    {
     "name": "stdout",
     "output_type": "stream",
     "text": [
      "Vinicius Oliveira\n"
     ]
    }
   ],
   "source": [
    "first_name = \"Vinicius\"\n",
    "last_name = \"Oliveira\"\n",
    "full_name = first_name + \" \" + last_name\n",
    "print(full_name)"
   ]
  },
  {
   "cell_type": "markdown",
   "id": "8a5bf7ab-68c3-4758-90ee-12612ae3a76e",
   "metadata": {},
   "source": [
    "## 04) Crie uma tupla com os seguintes elementos: 1, 2, 2, 3, 4, 4, 4, 5 e depois utilize a função count do objeto tupla para verificar quantas vezes o número 4 aparece na tupla"
   ]
  },
  {
   "cell_type": "code",
   "execution_count": 19,
   "id": "25e38bfd-f3f1-4546-a36b-26ec78f139fe",
   "metadata": {},
   "outputs": [
    {
     "data": {
      "text/plain": [
       "3"
      ]
     },
     "execution_count": 19,
     "metadata": {},
     "output_type": "execute_result"
    }
   ],
   "source": [
    "number_tuple = (1, 2, 2, 3, 4, 4, 4, 5)\n",
    "number_tuple.count(4)"
   ]
  },
  {
   "cell_type": "markdown",
   "id": "69e66bd4-85c6-43d7-b877-32d5da30d457",
   "metadata": {},
   "source": [
    "## 05) Crie um dicionário vazio e imprima na tela"
   ]
  },
  {
   "cell_type": "code",
   "execution_count": 20,
   "id": "d3021ec4-3730-45b2-be48-68ed57bd84ed",
   "metadata": {},
   "outputs": [
    {
     "name": "stdout",
     "output_type": "stream",
     "text": [
      "{}\n"
     ]
    }
   ],
   "source": [
    "random_dict = {}\n",
    "print(random_dict)"
   ]
  },
  {
   "cell_type": "markdown",
   "id": "d01b69c5-e411-4749-8424-9390b6973810",
   "metadata": {},
   "source": [
    "## 06) Crie um dicionario com 3 chaves e 3 valores e imprima na tela"
   ]
  },
  {
   "cell_type": "code",
   "execution_count": 21,
   "id": "fa8ecd73-0647-4484-bf79-ef5be6e0f642",
   "metadata": {},
   "outputs": [],
   "source": [
    "random_dict = {\"Vinicius\": 21, \"Ayla\": 3, \"Isabella\": 21}"
   ]
  },
  {
   "cell_type": "markdown",
   "id": "394d407b-8499-4115-bcd1-0eda6afd156f",
   "metadata": {},
   "source": [
    "## 07) Adicione mais um elemento ao dicionário criado no exercício anterior e imprima na tela"
   ]
  },
  {
   "cell_type": "code",
   "execution_count": 22,
   "id": "43877db6-b8cd-40fd-a296-21208a6f152a",
   "metadata": {},
   "outputs": [
    {
     "name": "stdout",
     "output_type": "stream",
     "text": [
      "{'Vinicius': 21, 'Ayla': 3, 'Isabella': 21}\n"
     ]
    }
   ],
   "source": [
    "print(random_dict)"
   ]
  },
  {
   "cell_type": "markdown",
   "id": "e6c937ff-f3d5-48c1-ba87-b13bec41b1b0",
   "metadata": {},
   "source": [
    "## 08) Crie um dicionário com 3 chaves e 3 valores. Um dos valores deve ser uma lista de 2 elementos númericos. Imprima o dicionário na tela"
   ]
  },
  {
   "cell_type": "code",
   "execution_count": 24,
   "id": "87acf627-5f3a-4311-926f-b9e9bd5dafed",
   "metadata": {},
   "outputs": [
    {
     "name": "stdout",
     "output_type": "stream",
     "text": [
      "{'numbers': [21, 3], 'name': 'Vinicius', 'weight': 80}\n"
     ]
    }
   ],
   "source": [
    "random_dict = {\"numbers\": [21, 3], \"name\": \"Vinicius\", \"weight\": 80}\n",
    "print(random_dict)"
   ]
  },
  {
   "cell_type": "markdown",
   "id": "8d9083d6-93cc-456f-a61a-2166590f8942",
   "metadata": {},
   "source": [
    "## 09) Crie uma lista com 4 elementos. O primeiro elemento deve ser uma string, o segundo uma tupla de 2 elementos, o terceiro um dicionário com 2 chaves e 2 valores, e o quarto elemento um valor do tipo float. Imprima a lista."
   ]
  },
  {
   "cell_type": "code",
   "execution_count": 25,
   "id": "e93a2adb-eace-4853-9fb2-554bd71442c5",
   "metadata": {},
   "outputs": [
    {
     "name": "stdout",
     "output_type": "stream",
     "text": [
      "['Vinicius', (4, 5), {'Father': 'Vinicius', 'Son': 'Ayla'}, 80.2]\n"
     ]
    }
   ],
   "source": [
    "random_list = [\"Vinicius\", (4, 5), {\"Father\": \"Vinicius\", \"Son\": \"Ayla\"}, 80.2]\n",
    "print(random_list)"
   ]
  },
  {
   "cell_type": "markdown",
   "id": "cd5848c4-e36e-4000-9098-7c7fa31debbd",
   "metadata": {},
   "source": [
    "## 10) Considere a string abaixo. Imprima na tela apenas os caracteres da posição 1 a 18.\n",
    "frase = \"Cientista de Dados é uma profissão mais sexy do século XXI\""
   ]
  },
  {
   "cell_type": "code",
   "execution_count": 1,
   "id": "ec55139d-fbaa-4c60-8fda-1b9a931eb5f1",
   "metadata": {},
   "outputs": [
    {
     "data": {
      "text/plain": [
       "'Cientista de Dados'"
      ]
     },
     "execution_count": 1,
     "metadata": {},
     "output_type": "execute_result"
    }
   ],
   "source": [
    "frase = \"Cientista de Dados é uma profissão mais sexy do século XXI\"\n",
    "frase[0:18]"
   ]
  }
 ],
 "metadata": {
  "kernelspec": {
   "display_name": "Python 3 (ipykernel)",
   "language": "python",
   "name": "python3"
  },
  "language_info": {
   "codemirror_mode": {
    "name": "ipython",
    "version": 3
   },
   "file_extension": ".py",
   "mimetype": "text/x-python",
   "name": "python",
   "nbconvert_exporter": "python",
   "pygments_lexer": "ipython3",
   "version": "3.12.7"
  }
 },
 "nbformat": 4,
 "nbformat_minor": 5
}
