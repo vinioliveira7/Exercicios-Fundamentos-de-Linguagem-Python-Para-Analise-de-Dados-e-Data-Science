{
 "cells": [
  {
   "cell_type": "markdown",
   "id": "83533616-8a94-4df9-b0ec-c67bc629b072",
   "metadata": {},
   "source": [
    "# Exercícios Resolvidos"
   ]
  },
  {
   "cell_type": "markdown",
   "id": "984d1461-a056-4250-bfc5-f2fbde9207a7",
   "metadata": {},
   "source": [
    "## 01) Crie uma estrutura que pergunte ao usuário qual o dia da semana. Se o dia for igual a Domingo ou igual a Sábado, imprima na tela \"Hoje é dia de descanso\", caso contrário imprima na tela \"Você precisa trabalhar!\""
   ]
  },
  {
   "cell_type": "code",
   "execution_count": 3,
   "id": "27955fae-c685-4c95-9261-e7b29ff86b77",
   "metadata": {},
   "outputs": [
    {
     "name": "stdin",
     "output_type": "stream",
     "text": [
      "Digite o dia da semana:  Segunda\n"
     ]
    },
    {
     "name": "stdout",
     "output_type": "stream",
     "text": [
      "Você precisa trabalhar!\n"
     ]
    }
   ],
   "source": [
    "day_of_week = input(\"Digite o dia da semana: \")\n",
    "if day_of_week == \"Sábado\" or day_of_week == \"Domingo\":\n",
    "    print(\"Hoje é dia de descanso\")\n",
    "else:\n",
    "    print(\"Você precisa trabalhar!\")"
   ]
  },
  {
   "cell_type": "markdown",
   "id": "af75b90e-76fd-4b6e-a863-ca7f3ecedf49",
   "metadata": {},
   "source": [
    "## 02) Crie uma lista de 5 frutas e verifique se a fruta \"Morango\" faz parte da lista"
   ]
  },
  {
   "cell_type": "code",
   "execution_count": 15,
   "id": "6acf5a1a-0ece-484e-8539-3f9ddac07a31",
   "metadata": {},
   "outputs": [
    {
     "name": "stdout",
     "output_type": "stream",
     "text": [
      "A fruta morango existe na lista\n"
     ]
    }
   ],
   "source": [
    "fruit_list = [\"Morango\", \"Maça\", \"Uva\", \"Maracujá\", \"Goiaba\"]\n",
    "for fruit in fruit_list:\n",
    "    if fruit == \"Morango\":\n",
    "        print(\"A fruta morango existe na lista\")"
   ]
  },
  {
   "cell_type": "markdown",
   "id": "677344d2-c9ce-4a64-a052-d847e60cd8f2",
   "metadata": {},
   "source": [
    "## 03) Crie uma tupla de 4 elementos, multiplique cada elemento da tupla por 2 e guarde os resultados em uma lista"
   ]
  },
  {
   "cell_type": "code",
   "execution_count": 16,
   "id": "38d3b6b7-7534-40e0-b7bc-9c6820d50fd8",
   "metadata": {},
   "outputs": [
    {
     "name": "stdout",
     "output_type": "stream",
     "text": [
      "[8, 16, 24, 32]\n"
     ]
    }
   ],
   "source": [
    "number_tuple = (4, 8, 12, 16)\n",
    "number_list = []\n",
    "for number in number_tuple:\n",
    "    number_list.append(number*2)\n",
    "print(number_list)"
   ]
  },
  {
   "cell_type": "markdown",
   "id": "b301d836-ec01-4caa-80e8-aac3606da85c",
   "metadata": {},
   "source": [
    "## 04) Crie uma sequência de números pares entre 100 e 150 e imprima na tela"
   ]
  },
  {
   "cell_type": "code",
   "execution_count": 19,
   "id": "e0eb0535-6e2e-420a-b575-cc0ea29d42bc",
   "metadata": {},
   "outputs": [
    {
     "name": "stdout",
     "output_type": "stream",
     "text": [
      "100\n",
      "102\n",
      "104\n",
      "106\n",
      "108\n",
      "110\n",
      "112\n",
      "114\n",
      "116\n",
      "118\n",
      "120\n",
      "122\n",
      "124\n",
      "126\n",
      "128\n",
      "130\n",
      "132\n",
      "134\n",
      "136\n",
      "138\n",
      "140\n",
      "142\n",
      "144\n",
      "146\n",
      "148\n",
      "150\n"
     ]
    }
   ],
   "source": [
    "for number in range(100, 151, 2):\n",
    "    print(number)"
   ]
  },
  {
   "cell_type": "markdown",
   "id": "f8951693-ce3c-4bb0-9160-1b3c8ffd8366",
   "metadata": {},
   "source": [
    "## 05) Crie uma variável chamada temperatura e atribua o valor de 40. Enquanto a temperatura for maior que 35, imprima as temperaturas na tela."
   ]
  },
  {
   "cell_type": "code",
   "execution_count": 21,
   "id": "0ed4cfb8-0df8-4cd6-85da-3ef3b87905ec",
   "metadata": {},
   "outputs": [
    {
     "name": "stdout",
     "output_type": "stream",
     "text": [
      "40\n",
      "39\n",
      "38\n",
      "37\n",
      "36\n"
     ]
    }
   ],
   "source": [
    "temperature = 40\n",
    "while temperature > 35:\n",
    "    print(temperature)\n",
    "    temperature -= 1"
   ]
  },
  {
   "cell_type": "markdown",
   "id": "31a94a8f-7ecb-4896-8095-9b34d7d0ab5e",
   "metadata": {},
   "source": [
    "## 06) Crie uma variável chamado contador = 0. Enquanto o contador for menor que 100, imprima os valores na tela, mas quando for encontrado o valor 23, interrompa a execução programa."
   ]
  },
  {
   "cell_type": "code",
   "execution_count": 23,
   "id": "9faf18ce-7e14-45f8-8c52-16149ec6e1ec",
   "metadata": {},
   "outputs": [
    {
     "name": "stdout",
     "output_type": "stream",
     "text": [
      "0\n",
      "1\n",
      "2\n",
      "3\n",
      "4\n",
      "5\n",
      "6\n",
      "7\n",
      "8\n",
      "9\n",
      "10\n",
      "11\n",
      "12\n",
      "13\n",
      "14\n",
      "15\n",
      "16\n",
      "17\n",
      "18\n",
      "19\n",
      "20\n",
      "21\n",
      "22\n"
     ]
    }
   ],
   "source": [
    "counter = 0\n",
    "while counter < 100:\n",
    "    if counter == 23:\n",
    "        break\n",
    "    else:\n",
    "        print(counter)\n",
    "        counter += 1"
   ]
  },
  {
   "cell_type": "markdown",
   "id": "5a341aed-7105-4256-83af-87a985e48cdb",
   "metadata": {},
   "source": [
    "## 07) Crie uma lista vazia e uma variável com valor 4. Enquanto o valor da variável for menor ou igual a 20, adicione à lista, apenas os valores pares e imprima a lista"
   ]
  },
  {
   "cell_type": "code",
   "execution_count": 3,
   "id": "bae9566a-5cc9-430e-a351-7586192c9978",
   "metadata": {},
   "outputs": [
    {
     "name": "stdout",
     "output_type": "stream",
     "text": [
      "[4, 6, 8, 10, 12, 14, 16, 18, 20]\n"
     ]
    }
   ],
   "source": [
    "number_list = []\n",
    "counter = 4 \n",
    "while counter <= 20:\n",
    "    if counter % 2 == 0:\n",
    "        number_list.append(counter)\n",
    "    counter += 1\n",
    "print(number_list)"
   ]
  },
  {
   "cell_type": "markdown",
   "id": "6e310f8d-163c-4138-9c5a-265ee4479ceb",
   "metadata": {},
   "source": [
    "## 08) Transforme o resultado dessa função range em uma lista: range(5, 45, 2)"
   ]
  },
  {
   "cell_type": "code",
   "execution_count": 2,
   "id": "bf9c6fca-54ee-4de3-807c-646235cfc46f",
   "metadata": {},
   "outputs": [
    {
     "name": "stdout",
     "output_type": "stream",
     "text": [
      "[5, 7, 9, 11, 13, 15, 17, 19, 21, 23, 25, 27, 29, 31, 33, 35, 37, 39, 41, 43]\n"
     ]
    }
   ],
   "source": [
    "nums = range(5, 45, 2)\n",
    "print(list(nums))"
   ]
  },
  {
   "cell_type": "markdown",
   "id": "c116ed7e-21a6-4ad6-89cc-9c60625988db",
   "metadata": {},
   "source": [
    "## 09) Faça a correção dos erros do código abbaixo e execute o programa. Dica: são 3 erros.\n",
    "```\n",
    "temperature = float(input(\"Qual a temperatura? \"))\n",
    "if temperature > 30\n",
    "print(\"Vista roupas leves.\")\n",
    "else\n",
    "    print(\"Busque seus casacos.\")\n",
    "```"
   ]
  },
  {
   "cell_type": "code",
   "execution_count": 4,
   "id": "1518ae00-d747-43fc-a823-34ea46ea8fd9",
   "metadata": {},
   "outputs": [
    {
     "name": "stdin",
     "output_type": "stream",
     "text": [
      "Qual a temperatura?  10\n"
     ]
    },
    {
     "name": "stdout",
     "output_type": "stream",
     "text": [
      "Busque seus casacos\n"
     ]
    }
   ],
   "source": [
    "temperature = float(input(\"Qual a temperatura? \"))\n",
    "if temperature > 30:\n",
    "    print(\"Vista roupas leves.\")\n",
    "else:\n",
    "    print(\"Busque seus casacos\")"
   ]
  },
  {
   "cell_type": "markdown",
   "id": "cc8e1b31-969d-46a9-8f29-76808b84d3cc",
   "metadata": {},
   "source": [
    "## 10) Faça um programa que conta quantas vezes a letra \"r\" aparece na frase abaixo. Use um placeholder na sua instrução de impressão.\n",
    "`\"A gratidão é a virtude das almas nobres. O quão feliz é uma pessoa depende da profundidade de sua gratidão\"`"
   ]
  },
  {
   "cell_type": "code",
   "execution_count": 6,
   "id": "ee038871-b495-40d3-8fce-09716a86e025",
   "metadata": {},
   "outputs": [
    {
     "name": "stdout",
     "output_type": "stream",
     "text": [
      "A letra \"r\" aparece 5 vezes na frase\n"
     ]
    }
   ],
   "source": [
    "frase = \"A gratidão é a virtude das almas nobres. O quão feliz é uma pessoa depende da profundidade de sua gratidão\"\n",
    "counter = 0\n",
    "for letra in frase:\n",
    "    if letra == \"r\":\n",
    "        counter += 1\n",
    "print(f'A letra \"r\" aparece {counter} vezes na frase')\n",
    "    "
   ]
  }
 ],
 "metadata": {
  "kernelspec": {
   "display_name": "Python 3 (ipykernel)",
   "language": "python",
   "name": "python3"
  },
  "language_info": {
   "codemirror_mode": {
    "name": "ipython",
    "version": 3
   },
   "file_extension": ".py",
   "mimetype": "text/x-python",
   "name": "python",
   "nbconvert_exporter": "python",
   "pygments_lexer": "ipython3",
   "version": "3.12.7"
  }
 },
 "nbformat": 4,
 "nbformat_minor": 5
}
