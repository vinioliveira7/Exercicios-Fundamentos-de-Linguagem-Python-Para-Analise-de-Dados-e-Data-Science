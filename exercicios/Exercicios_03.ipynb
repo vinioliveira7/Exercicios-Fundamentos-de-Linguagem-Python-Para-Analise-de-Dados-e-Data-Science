{
 "cells": [
  {
   "cell_type": "markdown",
   "id": "d93a63af-b80d-466f-85f6-4e4497837687",
   "metadata": {},
   "source": [
    "# Exercícios Resolvidos"
   ]
  },
  {
   "cell_type": "markdown",
   "id": "27dc4dd9-f5a5-4753-90c3-1f9be13021e8",
   "metadata": {},
   "source": [
    "## 01) Crie uma função que imprima a sequência de números pares entre 1 e 20 (a função não recebe parâmetro) e depois faça uma chamada à função para listar os números"
   ]
  },
  {
   "cell_type": "code",
   "execution_count": 8,
   "id": "357276d1-9df4-41da-92f2-d8e961c4cfd9",
   "metadata": {},
   "outputs": [
    {
     "name": "stdout",
     "output_type": "stream",
     "text": [
      "2\n",
      "4\n",
      "6\n",
      "8\n",
      "10\n",
      "12\n",
      "14\n",
      "16\n",
      "18\n",
      "20\n"
     ]
    }
   ],
   "source": [
    "def print_pair_numbers():\n",
    "    for i in range(1, 21):\n",
    "        if i % 2 ==0:\n",
    "            print(i)\n",
    "\n",
    "print_pair_numbers()"
   ]
  },
  {
   "cell_type": "markdown",
   "id": "7c67f85e-6be3-4b4f-ac02-e8b85a8db44f",
   "metadata": {},
   "source": [
    "## 02) Crie uma função que receba uma string como argumento e retorne a mesma string em letras maiúsculas. Faça uma chamada à função, passando como parâmetro uma string"
   ]
  },
  {
   "cell_type": "code",
   "execution_count": 7,
   "id": "6aa618f8-d7fe-48a7-90b8-8ae0bbd354c5",
   "metadata": {},
   "outputs": [
    {
     "name": "stdout",
     "output_type": "stream",
     "text": [
      "CURSO DATA SCIENCE ACADEMY\n"
     ]
    }
   ],
   "source": [
    "string = \"curso data science academy\"\n",
    "\n",
    "def string_upper(string):\n",
    "    string = string.upper()\n",
    "    return string\n",
    "\n",
    "print(string_upper(string))"
   ]
  },
  {
   "cell_type": "markdown",
   "id": "5d25b020-731a-4389-926c-e41920147a3a",
   "metadata": {},
   "source": [
    "## 03) Crie uma função que receba como parâmetro uma lista de 4 elementos, adicione 2 elementos a lista e imprima a lista"
   ]
  },
  {
   "cell_type": "code",
   "execution_count": 15,
   "id": "9be43bc6-0a5f-43bd-90e7-5936eab52353",
   "metadata": {},
   "outputs": [
    {
     "name": "stdout",
     "output_type": "stream",
     "text": [
      "[1, 2, 3, 4, 8, 3]\n"
     ]
    }
   ],
   "source": [
    "import random as rd\n",
    "number_list = [1, 2, 3, 4]\n",
    "\n",
    "def add_two_numbers_in_list(number_list):\n",
    "    number_list.append(rd.randint(1, 10))\n",
    "    number_list.append(rd.randint(1, 10))\n",
    "    print(number_list)\n",
    "\n",
    "add_two_numbers_in_list(number_list)"
   ]
  },
  {
   "cell_type": "markdown",
   "id": "24dd24df-a72f-4253-a17e-fd1ddee40716",
   "metadata": {},
   "source": [
    "## 04) Crie uma função que receba um argumento formal e uma possível lista de elementos. Faça duas chamadas à função, com apenas 1 elemento e na segunda chamada com 4 elementos"
   ]
  },
  {
   "cell_type": "code",
   "execution_count": 11,
   "id": "6f62e737-c013-458e-8beb-6e3aa61a8b98",
   "metadata": {},
   "outputs": [
    {
     "name": "stdout",
     "output_type": "stream",
     "text": [
      "A fruta selecionada foi: Maça\n",
      "A fruta selecionada foi: Morango\n",
      "A fruta selecionada foi: Uva\n",
      "A fruta selecionada foi: Melancia\n"
     ]
    }
   ],
   "source": [
    "fruit_list = [\"Morango\", \"Uva\", \"Pera\", \"Melancia\"]\n",
    "\n",
    "def print_fruit(fruit_arg, *fruits):\n",
    "    print(f\"A fruta selecionada foi: {fruit_arg}\")\n",
    "    for fruit in fruits:\n",
    "        print(f\"A fruta selecionada foi: {fruit}\")\n",
    "\n",
    "print_fruit(\"Maça\")\n",
    "print_fruit(\"Morango\", \"Uva\", \"Melancia\")"
   ]
  },
  {
   "cell_type": "markdown",
   "id": "7ab4e4a2-e7f1-4962-a9ea-69119dea0092",
   "metadata": {},
   "source": [
    "## 05) Crie uma função anônima e atribua seu retorno a uma variável chamada soma. A expressão vai receber 2 números como parâmetro e retornar a soma deles"
   ]
  },
  {
   "cell_type": "code",
   "execution_count": 15,
   "id": "2093481e-8e43-4c06-b1ee-f9652462faac",
   "metadata": {},
   "outputs": [
    {
     "data": {
      "text/plain": [
       "11"
      ]
     },
     "execution_count": 15,
     "metadata": {},
     "output_type": "execute_result"
    }
   ],
   "source": [
    "sum_two_numbers = lambda x, y: x + y\n",
    "sum_two_numbers(4, 7)"
   ]
  },
  {
   "cell_type": "markdown",
   "id": "e0932070-991b-4f13-beeb-96fd142fdd73",
   "metadata": {},
   "source": [
    "## 06) Execute o código abaixo e certifique-se que compreende a diferença entre variável global e local\n",
    "````\n",
    "total = 0\n",
    "def soma( arg1, arg2 ):\n",
    "    total = arg1 + arg2; \n",
    "    print (\"Dentro da função o total é: \", total)\n",
    "    return total;\n",
    "\n",
    "\n",
    "soma( 10, 20 );\n",
    "print (\"Fora da função o total é: \", total)"
   ]
  },
  {
   "cell_type": "code",
   "execution_count": 19,
   "id": "2425f670-f5b9-4a38-85d7-a90c90a58a37",
   "metadata": {},
   "outputs": [
    {
     "name": "stdout",
     "output_type": "stream",
     "text": [
      "Dentro da função o total é: 30\n",
      "Fora da função o total é: 0\n"
     ]
    }
   ],
   "source": [
    "total = 0\n",
    "def sum_two_numbers(arg1, arg2):\n",
    "    total = arg1 + arg2\n",
    "    print(f\"Dentro da função o total é: {total}\")\n",
    "    return total\n",
    "\n",
    "sum_two_numbers(10, 20)\n",
    "print(f\"Fora da função o total é: {total}\")"
   ]
  },
  {
   "cell_type": "markdown",
   "id": "820cb355-c139-42a1-8661-9cba7d4da282",
   "metadata": {},
   "source": [
    "## 07) Abaixo você encontra uma lista com temperaturas em graus Celsius. Crie uma função anônima que converta cada temperatura para Fahrenheit. Dica: para conseguir realizar este exercício, você deve criar sua função lambda, dentro de uma função. (que será estudada no próximo capítulo). Isso permite aplicar sua função a cada elemento da lista.\n",
    "```\n",
    "Celsius = [39.2, 36.5, 37.3, 37.8]\n",
    "Fahrenheit = map(coloque_aqui_sua_função_lambda)\n",
    "print (list(Fahrenheit))\n",
    "```\n"
   ]
  },
  {
   "cell_type": "code",
   "execution_count": 21,
   "id": "efd06157-89e8-4d13-9a43-60b27dc1f963",
   "metadata": {},
   "outputs": [
    {
     "name": "stdout",
     "output_type": "stream",
     "text": [
      "[102.56, 97.7, 99.14, 100.03999999999999]\n"
     ]
    }
   ],
   "source": [
    "Celsius = [39.2, 36.5, 37.3, 37.8]\n",
    "Fahrenheit = map(lambda c: (c * 9/5) + 32, Celsius)\n",
    "print (list(Fahrenheit))"
   ]
  },
  {
   "cell_type": "markdown",
   "id": "a36b9ac4-650c-4d0b-a5eb-4a0c553524c1",
   "metadata": {},
   "source": [
    "## 08) Crie uma list comprehension que imprima o quadrado dos números de 1 a 10"
   ]
  },
  {
   "cell_type": "code",
   "execution_count": 24,
   "id": "f9b7145c-391e-4612-add5-9cb6d6990fdd",
   "metadata": {},
   "outputs": [
    {
     "name": "stdout",
     "output_type": "stream",
     "text": [
      "[1, 4, 9, 16, 25, 36, 49, 64, 81, 100]\n"
     ]
    }
   ],
   "source": [
    "pow_list = [x**2 for x in range(1, 11)]\n",
    "print(pow_list)"
   ]
  },
  {
   "cell_type": "markdown",
   "id": "57ea6baf-80f2-47a9-95ee-1ce092359026",
   "metadata": {},
   "source": [
    "## 09) Crie uma list comprehension que imprima as palavras com a letra \"a\" no nome\n",
    "```\n",
    "palavras = [\"maça\", \"coiote\", \"banana\", \"terreno\", \"Python\"]\n",
    "```"
   ]
  },
  {
   "cell_type": "code",
   "execution_count": 27,
   "id": "54a2736b-122e-4bba-adb7-8907c1c062c9",
   "metadata": {},
   "outputs": [
    {
     "name": "stdout",
     "output_type": "stream",
     "text": [
      "['maça', 'banana']\n"
     ]
    }
   ],
   "source": [
    "words = [\"maça\", \"coiote\", \"banana\", \"terreno\", \"Python\"]\n",
    "words_with_a = [word for word in words if \"a\" in word]\n",
    "print(words_with_a)"
   ]
  },
  {
   "cell_type": "markdown",
   "id": "e9544afe-7535-43ce-8adf-cfb9388e122f",
   "metadata": {},
   "source": [
    "## 10) Crie uma list comprehension que imprima os números menores que 5 em um intervalo de 1 a 10"
   ]
  },
  {
   "cell_type": "code",
   "execution_count": 29,
   "id": "d562dbde-f1e0-4ca6-8c8a-f4fe567c9ede",
   "metadata": {},
   "outputs": [
    {
     "name": "stdout",
     "output_type": "stream",
     "text": [
      "[1, 2, 3, 4]\n"
     ]
    }
   ],
   "source": [
    "less_than_5_list = [x for x in range(1, 11) if x < 5]\n",
    "print(less_than_5_list)"
   ]
  }
 ],
 "metadata": {
  "kernelspec": {
   "display_name": "Python 3 (ipykernel)",
   "language": "python",
   "name": "python3"
  },
  "language_info": {
   "codemirror_mode": {
    "name": "ipython",
    "version": 3
   },
   "file_extension": ".py",
   "mimetype": "text/x-python",
   "name": "python",
   "nbconvert_exporter": "python",
   "pygments_lexer": "ipython3",
   "version": "3.12.7"
  }
 },
 "nbformat": 4,
 "nbformat_minor": 5
}
