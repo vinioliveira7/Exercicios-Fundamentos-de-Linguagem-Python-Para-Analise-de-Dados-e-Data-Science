{
 "cells": [
  {
   "cell_type": "markdown",
   "id": "82c7f974-40e6-42f0-9c99-6e5379a28e00",
   "metadata": {},
   "source": [
    "# Exercícios Resolvidos"
   ]
  },
  {
   "cell_type": "markdown",
   "id": "31a5e912-272f-40d5-a8bf-52ac250f0690",
   "metadata": {},
   "source": [
    "## 01) Crie uma lista de 3 elementos e calcule a terceira potência de cada elemento"
   ]
  },
  {
   "cell_type": "code",
   "execution_count": 3,
   "id": "e605bd43-67b9-4374-a95b-a6e54ae3530d",
   "metadata": {},
   "outputs": [
    {
     "name": "stdout",
     "output_type": "stream",
     "text": [
      "[1, 8, 27]\n"
     ]
    }
   ],
   "source": [
    "number_list = [1, 2, 3]\n",
    "pow_3_number_list = list(map(lambda x: pow(x, 3), number_list))\n",
    "print(pow_3_number_list)"
   ]
  },
  {
   "cell_type": "markdown",
   "id": "47153a0f-7635-4184-9551-c386157f2d34",
   "metadata": {},
   "source": [
    "## 02) Reescreva o código abaixo, usando a função map(). O resultado final deve ser o mesmo!\n",
    "```\n",
    "palavras = 'A Data Science Academy oferce os melhores cursos de análise de dados do Brasil.'.split()\n",
    "resultado = [[w.upper(), w.lower(), len(w)] for w in palavras]\n",
    "for i in resultado:\n",
    "    print (i)\n",
    "```"
   ]
  },
  {
   "cell_type": "code",
   "execution_count": 10,
   "id": "a7b894b4-0470-43cc-bbe3-d55c5262f1e9",
   "metadata": {},
   "outputs": [
    {
     "name": "stdout",
     "output_type": "stream",
     "text": [
      "['A', 'a', 1]\n",
      "['DATA', 'data', 4]\n",
      "['SCIENCE', 'science', 7]\n",
      "['ACADEMY', 'academy', 7]\n",
      "['OFERCE', 'oferce', 6]\n",
      "['OS', 'os', 2]\n",
      "['MELHORES', 'melhores', 8]\n",
      "['CURSOS', 'cursos', 6]\n",
      "['DE', 'de', 2]\n",
      "['ANÁLISE', 'análise', 7]\n",
      "['DE', 'de', 2]\n",
      "['DADOS', 'dados', 5]\n",
      "['DO', 'do', 2]\n",
      "['BRASIL.', 'brasil.', 7]\n"
     ]
    }
   ],
   "source": [
    "words = 'A Data Science Academy oferce os melhores cursos de análise de dados do Brasil.'.split()\n",
    "result = list(map(lambda x: [x.upper(), x.lower(), len(x)], words))\n",
    "for i in result:\n",
    "    print (i)"
   ]
  },
  {
   "cell_type": "markdown",
   "id": "bba06ada-6d24-4cf4-b0e1-b166628f1705",
   "metadata": {},
   "source": [
    "## 03) Calcule a matriz transposta da matriz abaixo.\n",
    "```\n",
    "matrix = [[1, 2],[3,4],[5,6],[7,8]]\n",
    "```"
   ]
  },
  {
   "cell_type": "code",
   "execution_count": 5,
   "id": "fb01759a-c07f-4bfb-840a-8434b7f54094",
   "metadata": {},
   "outputs": [
    {
     "name": "stdout",
     "output_type": "stream",
     "text": [
      "[[1, 3, 5, 7], [2, 4, 6, 8]]\n"
     ]
    }
   ],
   "source": [
    "matrix = [[1, 2],[3,4],[5,6],[7,8]]\n",
    "transposted_matrix = []\n",
    "\n",
    "for num in range(len(matrix[0])):\n",
    "    new_row = []\n",
    "    for row in matrix:\n",
    "        new_row.append(row[num])\n",
    "    transposted_matrix.append(new_row)\n",
    "print(transposted_matrix)"
   ]
  },
  {
   "cell_type": "markdown",
   "id": "adacb8b2-c3ba-47c0-9c1a-077bf07f2c9b",
   "metadata": {},
   "source": [
    "## 04) Crie duas funções, uma para elevar um número ao quadrado e outra para elevar ao cubo. Aplique as duas funções aos elementos da lista abaixo. Obs: as duas funções devem ser aplicadas simultaneamente.\n",
    "```\n",
    "lista = [0, 1, 2, 3, 4]\n",
    "```"
   ]
  },
  {
   "cell_type": "code",
   "execution_count": 11,
   "id": "9f5d9c9b-d225-45dd-8121-ac3ec5708674",
   "metadata": {},
   "outputs": [
    {
     "name": "stdout",
     "output_type": "stream",
     "text": [
      "[0, 0]\n",
      "[1, 1]\n",
      "[4, 8]\n",
      "[9, 27]\n",
      "[16, 64]\n"
     ]
    }
   ],
   "source": [
    "number_list = [0, 1, 2, 3, 4]\n",
    "\n",
    "def pow_2(number):\n",
    "    return number**2\n",
    "\n",
    "def pow_3(number):\n",
    "    return number**3\n",
    "\n",
    "functions = [pow_2, pow_3]\n",
    "\n",
    "for number in number_list:\n",
    "    values = (map(lambda x: x(number), functions))\n",
    "    print(list(values))"
   ]
  },
  {
   "cell_type": "markdown",
   "id": "dd0ce662-2738-4b65-bea0-6c9838e374bd",
   "metadata": {},
   "source": [
    "## 05) Abaixo você encontra duas listas. Faça com que cada elemento da listaA seja elevado ao elemento correspondente na listaB.\n",
    "```\n",
    "listaA = [2, 3, 4]\n",
    "listaB = [10, 11, 12]\n",
    "```"
   ]
  },
  {
   "cell_type": "code",
   "execution_count": 13,
   "id": "7390aff8-d9df-4d0b-b6ea-d1e3a7caf4d0",
   "metadata": {},
   "outputs": [
    {
     "data": {
      "text/plain": [
       "[1024, 177147, 16777216]"
      ]
     },
     "execution_count": 13,
     "metadata": {},
     "output_type": "execute_result"
    }
   ],
   "source": [
    "list1 = [2, 3, 4]\n",
    "list2 = [10, 11, 12]\n",
    "\n",
    "list(map(lambda x, y: x**y, list1, list2))"
   ]
  },
  {
   "cell_type": "markdown",
   "id": "70f108c9-45ea-40ba-8f39-d789ca4db01d",
   "metadata": {},
   "source": [
    "## 06) Considerando o range de valores abaixo, use a função filter() para retornar apenas os valores negativos.\n",
    "```\n",
    "range(-5, 5)\n",
    "```"
   ]
  },
  {
   "cell_type": "code",
   "execution_count": 15,
   "id": "9ab4d4a3-42d8-435d-a8cf-666645dbdd43",
   "metadata": {},
   "outputs": [
    {
     "data": {
      "text/plain": [
       "[-5, -4, -3, -2, -1]"
      ]
     },
     "execution_count": 15,
     "metadata": {},
     "output_type": "execute_result"
    }
   ],
   "source": [
    "list(filter(lambda x: x < 0, range(-5, 5)))"
   ]
  },
  {
   "cell_type": "markdown",
   "id": "c98f906d-160d-4f3b-a877-0d92bc737478",
   "metadata": {},
   "source": [
    "## 07) Usando a função filter(), encontre os valores que são comuns às duas listas abaixo\n",
    "```\n",
    "a = [1,2,3,5,7,9]\n",
    "b = [2,3,5,6,7,8]\n",
    "```"
   ]
  },
  {
   "cell_type": "code",
   "execution_count": 17,
   "id": "a9b2358d-54b2-49ac-8e89-c79f3b2227a3",
   "metadata": {},
   "outputs": [
    {
     "data": {
      "text/plain": [
       "[2, 3, 5, 7]"
      ]
     },
     "execution_count": 17,
     "metadata": {},
     "output_type": "execute_result"
    }
   ],
   "source": [
    "list(filter(lambda x: x in a, b))"
   ]
  },
  {
   "cell_type": "markdown",
   "id": "e16c3c8b-f7ae-466a-8bc3-daee8d3d465d",
   "metadata": {},
   "source": [
    "## 08) Considere os dois dicionários abaixo. Crie um terceiro dicionário com as chaves do dicionário 1 e os valores do dicionário 2\n",
    "```\n",
    "dict1 = {'a':1,'b':2}\n",
    "dict2 = {'c':4,'d':5}\n",
    "```"
   ]
  },
  {
   "cell_type": "code",
   "execution_count": 23,
   "id": "05804905-02e2-4b07-ab36-5ed4740e8a9c",
   "metadata": {},
   "outputs": [
    {
     "data": {
      "text/plain": [
       "{'a': 4, 'b': 5}"
      ]
     },
     "execution_count": 23,
     "metadata": {},
     "output_type": "execute_result"
    }
   ],
   "source": [
    "dict1 = {'a':1,'b':2}\n",
    "dict2 = {'c':4,'d':5}\n",
    "\n",
    "def changeKeyValue(dict1, dict2):\n",
    "    temporary_dict = {}\n",
    "    for dict1key, dict2value in zip(dict1, dict2.values()):\n",
    "        temporary_dict[dict1key] = dict2value\n",
    "\n",
    "    return temporary_dict\n",
    "\n",
    "changeKeyValue(dict1, dict2)\n",
    "    "
   ]
  },
  {
   "cell_type": "markdown",
   "id": "c18936f8-27b0-470e-b67f-a5691c0dbd03",
   "metadata": {},
   "source": [
    "## 09) Considere a lista abaixo e retorne apenas os elementos cujo índice for maior que 5.\n",
    "```\n",
    "lista = ['a', 'b', 'c', 'd', 'e', 'f', 'g', 'h']\n",
    "```"
   ]
  },
  {
   "cell_type": "code",
   "execution_count": 21,
   "id": "2a901b15-c635-4e48-a1d4-c4f6129c2d96",
   "metadata": {},
   "outputs": [
    {
     "name": "stdout",
     "output_type": "stream",
     "text": [
      "['g', 'h']\n"
     ]
    }
   ],
   "source": [
    "char_list = ['a', 'b', 'c', 'd', 'e', 'f', 'g', 'h']\n",
    "new_char_list = []\n",
    "for index, value in enumerate(char_list):\n",
    "    if index > 5:\n",
    "        new_char_list.append(value)\n",
    "\n",
    "print(new_char_list)"
   ]
  },
  {
   "cell_type": "markdown",
   "id": "026d9f55-d104-4c95-8228-bd5f09ba265d",
   "metadata": {},
   "source": [
    "## 10) Crie um regex em Python para extrair a palavra que aparece depois das palavras. Data e Science na frase: 'A Data Science Academy oferce os melhores cursos de análise de dados do Brasil.'"
   ]
  },
  {
   "cell_type": "code",
   "execution_count": 29,
   "id": "55a88ea5-587e-4f1c-b44b-972a94cbf785",
   "metadata": {},
   "outputs": [
    {
     "name": "stdout",
     "output_type": "stream",
     "text": [
      "Academy\n"
     ]
    }
   ],
   "source": [
    "# Exercício 10 - Crie um regex em Python para extrair a palavra que aparece depois das palavrasData e Science na frase: 'A Data Science Academy oferce os melhores cursos de análise de dados do Brasil.'\n",
    "import re\n",
    "text = 'A Data Science Academy oferece os melhores cursos de análise de dados do Brasil.'\n",
    "result = re.findall(r'Data Science (\\w+)', text)\n",
    "print(result[0])"
   ]
  },
  {
   "cell_type": "code",
   "execution_count": null,
   "id": "bd02d6d6-b895-4b82-aef9-f82cab9bede1",
   "metadata": {},
   "outputs": [],
   "source": []
  }
 ],
 "metadata": {
  "kernelspec": {
   "display_name": "Python 3 (ipykernel)",
   "language": "python",
   "name": "python3"
  },
  "language_info": {
   "codemirror_mode": {
    "name": "ipython",
    "version": 3
   },
   "file_extension": ".py",
   "mimetype": "text/x-python",
   "name": "python",
   "nbconvert_exporter": "python",
   "pygments_lexer": "ipython3",
   "version": "3.12.7"
  }
 },
 "nbformat": 4,
 "nbformat_minor": 5
}
