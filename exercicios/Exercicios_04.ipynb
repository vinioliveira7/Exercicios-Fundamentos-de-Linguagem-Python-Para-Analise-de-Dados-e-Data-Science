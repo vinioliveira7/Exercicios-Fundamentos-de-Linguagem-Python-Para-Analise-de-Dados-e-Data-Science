{
 "cells": [
  {
   "cell_type": "markdown",
   "id": "82c7f974-40e6-42f0-9c99-6e5379a28e00",
   "metadata": {},
   "source": [
    "# Exercícios Resolvidos"
   ]
  },
  {
   "cell_type": "markdown",
   "id": "31a5e912-272f-40d5-a8bf-52ac250f0690",
   "metadata": {},
   "source": [
    "## 01) Crie uma lista de 3 elementos e calcule a terceira potência de cada elemento"
   ]
  },
  {
   "cell_type": "code",
   "execution_count": 3,
   "id": "e605bd43-67b9-4374-a95b-a6e54ae3530d",
   "metadata": {},
   "outputs": [
    {
     "name": "stdout",
     "output_type": "stream",
     "text": [
      "[1, 8, 27]\n"
     ]
    }
   ],
   "source": [
    "number_list = [1, 2, 3]\n",
    "pow_3_number_list = list(map(lambda x: pow(x, 3), number_list))\n",
    "print(pow_3_number_list)"
   ]
  },
  {
   "cell_type": "markdown",
   "id": "47153a0f-7635-4184-9551-c386157f2d34",
   "metadata": {},
   "source": [
    "## 02) Reescreva o código abaixo, usando a função map(). O resultado final deve ser o mesmo!\n",
    "```\n",
    "palavras = 'A Data Science Academy oferce os melhores cursos de análise de dados do Brasil.'.split()\n",
    "resultado = [[w.upper(), w.lower(), len(w)] for w in palavras]\n",
    "for i in resultado:\n",
    "    print (i)\n",
    "```"
   ]
  },
  {
   "cell_type": "code",
   "execution_count": 10,
   "id": "a7b894b4-0470-43cc-bbe3-d55c5262f1e9",
   "metadata": {},
   "outputs": [
    {
     "name": "stdout",
     "output_type": "stream",
     "text": [
      "['A', 'a', 1]\n",
      "['DATA', 'data', 4]\n",
      "['SCIENCE', 'science', 7]\n",
      "['ACADEMY', 'academy', 7]\n",
      "['OFERCE', 'oferce', 6]\n",
      "['OS', 'os', 2]\n",
      "['MELHORES', 'melhores', 8]\n",
      "['CURSOS', 'cursos', 6]\n",
      "['DE', 'de', 2]\n",
      "['ANÁLISE', 'análise', 7]\n",
      "['DE', 'de', 2]\n",
      "['DADOS', 'dados', 5]\n",
      "['DO', 'do', 2]\n",
      "['BRASIL.', 'brasil.', 7]\n"
     ]
    }
   ],
   "source": [
    "words = 'A Data Science Academy oferce os melhores cursos de análise de dados do Brasil.'.split()\n",
    "result = list(map(lambda x: [x.upper(), x.lower(), len(x)], words))\n",
    "for i in result:\n",
    "    print (i)"
   ]
  },
  {
   "cell_type": "markdown",
   "id": "bba06ada-6d24-4cf4-b0e1-b166628f1705",
   "metadata": {},
   "source": [
    "## 03) Calcule a matriz transposta da matriz abaixo.\n",
    "```\n",
    "matrix = [[1, 2],[3,4],[5,6],[7,8]]\n",
    "```"
   ]
  },
  {
   "cell_type": "code",
   "execution_count": 5,
   "id": "fb01759a-c07f-4bfb-840a-8434b7f54094",
   "metadata": {},
   "outputs": [
    {
     "name": "stdout",
     "output_type": "stream",
     "text": [
      "[[1, 3, 5, 7], [2, 4, 6, 8]]\n"
     ]
    }
   ],
   "source": [
    "matrix = [[1, 2],[3,4],[5,6],[7,8]]\n",
    "transposted_matrix = []\n",
    "\n",
    "for num in range(len(matrix[0])):\n",
    "    new_row = []\n",
    "    for row in matrix:\n",
    "        new_row.append(row[num])\n",
    "    transposted_matrix.append(new_row)\n",
    "print(transposted_matrix)"
   ]
  },
  {
   "cell_type": "markdown",
   "id": "adacb8b2-c3ba-47c0-9c1a-077bf07f2c9b",
   "metadata": {},
   "source": [
    "## 04) Crie duas funções, uma para elevar um número ao quadrado e outra para elevar ao cubo. Aplique as duas funções aos elementos da lista abaixo. Obs: as duas funções devem ser aplicadas simultaneamente.\n",
    "```\n",
    "lista = [0, 1, 2, 3, 4]\n",
    "```"
   ]
  },
  {
   "cell_type": "code",
   "execution_count": 11,
   "id": "9f5d9c9b-d225-45dd-8121-ac3ec5708674",
   "metadata": {},
   "outputs": [
    {
     "name": "stdout",
     "output_type": "stream",
     "text": [
      "[0, 0]\n",
      "[1, 1]\n",
      "[4, 8]\n",
      "[9, 27]\n",
      "[16, 64]\n"
     ]
    }
   ],
   "source": [
    "number_list = [0, 1, 2, 3, 4]\n",
    "\n",
    "def pow_2(number):\n",
    "    return number**2\n",
    "\n",
    "def pow_3(number):\n",
    "    return number**3\n",
    "\n",
    "functions = [pow_2, pow_3]\n",
    "\n",
    "for number in number_list:\n",
    "    values = (map(lambda x: x(number), functions))\n",
    "    print(list(values))"
   ]
  },
  {
   "cell_type": "code",
   "execution_count": null,
   "id": "02810d38-e260-48bc-9131-3ecffd7f28a5",
   "metadata": {},
   "outputs": [],
   "source": []
  }
 ],
 "metadata": {
  "kernelspec": {
   "display_name": "Python 3 (ipykernel)",
   "language": "python",
   "name": "python3"
  },
  "language_info": {
   "codemirror_mode": {
    "name": "ipython",
    "version": 3
   },
   "file_extension": ".py",
   "mimetype": "text/x-python",
   "name": "python",
   "nbconvert_exporter": "python",
   "pygments_lexer": "ipython3",
   "version": "3.12.7"
  }
 },
 "nbformat": 4,
 "nbformat_minor": 5
}
