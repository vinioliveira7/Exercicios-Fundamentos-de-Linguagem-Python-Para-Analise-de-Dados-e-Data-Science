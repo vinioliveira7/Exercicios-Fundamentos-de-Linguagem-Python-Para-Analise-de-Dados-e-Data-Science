{
 "cells": [
  {
   "cell_type": "markdown",
   "id": "29a1bf9a-e5b9-4aa6-8c43-d6277f3bfee3",
   "metadata": {},
   "source": [
    "# Exercícios Resolvidos"
   ]
  },
  {
   "cell_type": "markdown",
   "id": "3758c8ec-9a49-4f37-a4e9-68a445c7927b",
   "metadata": {},
   "source": [
    "## 01) Crie um objeto a partir da classe abaixo, chamado roc1, passando 2 parâmetros e depois faça uma chamada aos atributos e métodos\n",
    "```\n",
    "from math import sqrt\n",
    "\n",
    "class Rocket():\n",
    "     \n",
    "    def __init__(self, x=0, y=0):\n",
    "        self.x = x\n",
    "        self.y = y\n",
    "        \n",
    "    def move_rocket(self, x_increment=0, y_increment=1):\n",
    "        self.x += x_increment\n",
    "        self.y += y_increment\n",
    "        \n",
    "    def print_rocket(self):\n",
    "        print(self.x, self.y)\n",
    "```"
   ]
  },
  {
   "cell_type": "code",
   "execution_count": 3,
   "id": "2b92300d-b1d6-4cfb-ab6b-948cdc983d84",
   "metadata": {},
   "outputs": [
    {
     "name": "stdout",
     "output_type": "stream",
     "text": [
      "4 5\n",
      "7 7\n"
     ]
    }
   ],
   "source": [
    "from math import sqrt\n",
    "\n",
    "class Rocket():\n",
    "     \n",
    "    def __init__(self, x=0, y=0):\n",
    "        self.x = x\n",
    "        self.y = y\n",
    "        \n",
    "    def move_rocket(self, x_increment=0, y_increment=1):\n",
    "        self.x += x_increment\n",
    "        self.y += y_increment\n",
    "        \n",
    "    def print_rocket(self):\n",
    "        print(self.x, self.y)\n",
    "\n",
    "roc1 = Rocket(4, 5)\n",
    "roc1.x\n",
    "roc1.y\n",
    "roc1.print_rocket()\n",
    "roc1.move_rocket(3,2)\n",
    "roc1.print_rocket()"
   ]
  },
  {
   "cell_type": "markdown",
   "id": "e15f4bf9-5b30-4ad3-b8c0-051398ed2acc",
   "metadata": {},
   "source": [
    "## 02) Crie uma classe chamada Pessoa() com os atributos: nome, cidade, telefone e e-mail. Use pelo menos 2 métodos especiais na sua classe. Crie um objeto da sua classe e faça uma chamada a pelo menos um dos seus métodos especiais.\n"
   ]
  },
  {
   "cell_type": "code",
   "execution_count": 6,
   "id": "60d1801b-eb6f-4606-b2b1-b735095f878c",
   "metadata": {},
   "outputs": [
    {
     "data": {
      "text/plain": [
       "'O nome do usuário é Vinicius e mora na cidade Limoeiro do Norte'"
      ]
     },
     "execution_count": 6,
     "metadata": {},
     "output_type": "execute_result"
    }
   ],
   "source": [
    "class Pessoa():\n",
    "    def __init__(self, name, city, telephone, email):\n",
    "        self.name = name\n",
    "        self.city = city\n",
    "        self.telephone = telephone\n",
    "        self.email = email\n",
    "\n",
    "    def __str__(self):\n",
    "        return f\"O nome do usuário é {self.name} e mora na cidade {self.city}\"\n",
    "\n",
    "P1 = Pessoa(\"Vinicius\", \"Limoeiro do Norte\", \"+5588993403198\", \"vinicius_oc09@hotmail.com\")\n",
    "str(P1)"
   ]
  },
  {
   "cell_type": "code",
   "execution_count": null,
   "id": "353363cd-c075-4ef4-822c-84e71e0f70f7",
   "metadata": {},
   "outputs": [],
   "source": []
  }
 ],
 "metadata": {
  "kernelspec": {
   "display_name": "Python 3 (ipykernel)",
   "language": "python",
   "name": "python3"
  },
  "language_info": {
   "codemirror_mode": {
    "name": "ipython",
    "version": 3
   },
   "file_extension": ".py",
   "mimetype": "text/x-python",
   "name": "python",
   "nbconvert_exporter": "python",
   "pygments_lexer": "ipython3",
   "version": "3.12.7"
  }
 },
 "nbformat": 4,
 "nbformat_minor": 5
}
